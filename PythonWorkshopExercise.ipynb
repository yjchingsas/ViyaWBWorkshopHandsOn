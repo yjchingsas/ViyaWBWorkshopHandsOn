{
 "cells": [
  {
   "cell_type": "markdown",
   "id": "bfa3b137",
   "metadata": {},
   "source": [
    "# Hands-On Workshop Exercise\n",
    "---\n",
    "\n",
    "For this exercise, your goal is to train a SAS Viya model and register it into Model Manager.\n",
    "\n",
    "There is sample code already to load the data, transform it, train a model, and register it. However, it will fail since the model registration code is specifically for a SAS model.\n",
    "\n",
    "You should not need to modify any other code other than the cell specified, and the first cell to specify your name.\n"
   ]
  },
  {
   "cell_type": "code",
   "execution_count": 1,
   "id": "a207c94a-742a-4f85-858d-422d383170b3",
   "metadata": {},
   "outputs": [],
   "source": [
    "name = \"ssayjc\""
   ]
  },
  {
   "cell_type": "code",
   "execution_count": 2,
   "id": "8a847a00-5bdd-4330-8e60-2e790fe4f66d",
   "metadata": {},
   "outputs": [],
   "source": [
    "import pandas as pd\n",
    "from sklearn.ensemble import GradientBoostingClassifier\n",
    "from pathlib import Path\n",
    "import os\n",
    "import requests\n",
    "from sasctl import Session\n",
    "from sasctl.services import model_repository as mr, model_management as mm"
   ]
  },
  {
   "cell_type": "code",
   "execution_count": 3,
   "id": "612492c0-5234-449a-af2c-ec96b844c6a8",
   "metadata": {},
   "outputs": [],
   "source": [
    "syn_credit_data = pd.read_csv(\"./data/generated_lendingClub1M.csv\")"
   ]
  },
  {
   "cell_type": "code",
   "execution_count": 4,
   "id": "8b97f18d",
   "metadata": {},
   "outputs": [],
   "source": [
    "def dummy_column(column, df):\n",
    "    return pd.concat([df, pd.get_dummies(df[column])], axis = 1).drop(column, axis = 1)"
   ]
  },
  {
   "cell_type": "code",
   "execution_count": 5,
   "id": "ec9b7409",
   "metadata": {},
   "outputs": [],
   "source": [
    "input_df = dummy_column(\"Purpose\", syn_credit_data)\n"
   ]
  },
  {
   "cell_type": "code",
   "execution_count": 6,
   "id": "26a40549",
   "metadata": {},
   "outputs": [],
   "source": [
    "## Split out holdout\n",
    "from sklearn.model_selection import train_test_split\n",
    "X_train, X_valid, y_train, y_valid = train_test_split(\n",
    "    input_df.drop(['Default'], axis=1), input_df['Default'], test_size=0.3, random_state=0)"
   ]
  },
  {
   "cell_type": "markdown",
   "id": "0f40f956",
   "metadata": {},
   "source": [
    "# Start Code Section\n",
    "---\n",
    "\n",
    "Edit the cell below - \n",
    "\n",
    "Make sure your variable for the model is called wb_model"
   ]
  },
  {
   "cell_type": "code",
   "execution_count": 7,
   "id": "3840b7e1",
   "metadata": {},
   "outputs": [
    {
     "data": {
      "text/plain": [
       "GradientBoostingClassifier()"
      ]
     },
     "execution_count": 7,
     "metadata": {},
     "output_type": "execute_result"
    }
   ],
   "source": [
    "wb_model = GradientBoostingClassifier()\n",
    "wb_model.fit(X_train, y_train)"
   ]
  },
  {
   "cell_type": "markdown",
   "id": "4f3af687",
   "metadata": {},
   "source": [
    "# End Code Section\n",
    "---\n",
    "Do not edit anything after this part of the script"
   ]
  },
  {
   "cell_type": "code",
   "execution_count": 8,
   "id": "b846a15b-c469-46de-9aa9-efd593aa0af4",
   "metadata": {},
   "outputs": [
    {
     "name": "stderr",
     "output_type": "stream",
     "text": [
      "/usr/local/lib/python3.11/site-packages/urllib3/connectionpool.py:1103: InsecureRequestWarning: Unverified HTTPS request is being made to host 'apgtps2demo.gtp.unx.sas.com'. Adding certificate verification is strongly advised. See: https://urllib3.readthedocs.io/en/latest/advanced-usage.html#tls-warnings\n",
      "  warnings.warn(\n"
     ]
    }
   ],
   "source": [
    "## get access token for viya env using refresh token. change to your own viya server and preferred authentication method.\n",
    "url = \"https://apgtps2demo.gtp.unx.sas.com\"\n",
    "auth_url = f\"{url}/SASLogon/oauth/token\"\n",
    "## reading long-lived refresh token from txt file\n",
    "refresh_token = Path(f'/workspaces/{os.environ[\"DEFAULT_MOUNTNAME\"]}/apgtps2demo_refresh_token.txt').read_text().replace('\\n', '')\n",
    "\n",
    "payload=f'grant_type=refresh_token&refresh_token={refresh_token}'\n",
    "headers = {\n",
    "  'Accept': 'application/json',\n",
    "  'Content-Type': 'application/x-www-form-urlencoded',\n",
    "  'Authorization': 'Basic c2FzLmNsaTo=',\n",
    "}\n",
    "\n",
    "response = requests.request(\"POST\", auth_url, headers=headers, data=payload, verify=False)\n",
    "access_token = response.json()['access_token']"
   ]
  },
  {
   "cell_type": "code",
   "execution_count": 9,
   "id": "424d0d29-d883-431e-8a17-bff4f8bd2bf7",
   "metadata": {},
   "outputs": [
    {
     "data": {
      "text/plain": [
       "<sasctl.core.Session at 0x7ff31bb3bf50>"
      ]
     },
     "execution_count": 9,
     "metadata": {},
     "output_type": "execute_result"
    }
   ],
   "source": [
    "st = Session(\"https://apgtps2demo.gtp.unx.sas.com\", token=access_token, verify_ssl=False)\n",
    "st"
   ]
  },
  {
   "cell_type": "code",
   "execution_count": 10,
   "id": "179d52e8",
   "metadata": {},
   "outputs": [],
   "source": [
    "project_name = \"WB Hands On \"+name"
   ]
  },
  {
   "cell_type": "code",
   "execution_count": 13,
   "id": "008885a2",
   "metadata": {},
   "outputs": [],
   "source": [
    "try:\n",
    "    project = mr.get_project(project_name)\n",
    "## Create a project\n",
    "except:\n",
    "    repository = mr.get_repository('DMRepository')\n",
    "    # repository.name\n",
    "    project_create = mr.create_project(\n",
    "        {\n",
    "        'name':project_name,\n",
    "        'description':'WB Hands-on Exercise',\n",
    "        'function':'classification',\n",
    "        'targetLevel':'binary',\n",
    "        },\n",
    "        repository\n",
    "    )\n",
    "    project = mr.get_project(project_name)"
   ]
  },
  {
   "cell_type": "code",
   "execution_count": 14,
   "id": "3ed947f0-cbf9-4c85-ac70-c79f5b82b49c",
   "metadata": {},
   "outputs": [],
   "source": [
    "def register_model(model_name, model, project):\n",
    "    model_params = {\n",
    "        \"name\": model_name,\n",
    "        \"projectId\": project.id,\n",
    "        \"type\": \"ASTORE\",\n",
    "    }\n",
    "    astore = mr.post(\n",
    "        \"/models\",\n",
    "        files={\"files\": (f\"{model_name}.astore\", model.export())},\n",
    "        data=model_params,\n",
    "    )\n",
    "    print(astore)"
   ]
  },
  {
   "cell_type": "markdown",
   "id": "6075e59c",
   "metadata": {},
   "source": [
    "#### Model Registration\n",
    "---"
   ]
  },
  {
   "cell_type": "code",
   "execution_count": 15,
   "id": "328feb8a-8c82-460a-b506-4666a6849efb",
   "metadata": {},
   "outputs": [
    {
     "name": "stdout",
     "output_type": "stream",
     "text": [
      "MyModel ssayjc\n"
     ]
    }
   ],
   "source": [
    "register_model(\"MyModel \"+name, wb_model, project)"
   ]
  }
 ],
 "metadata": {
  "kernelspec": {
   "display_name": "Workbench Python",
   "language": "python",
   "name": "workbench_python"
  },
  "language_info": {
   "codemirror_mode": {
    "name": "ipython",
    "version": 3
   },
   "file_extension": ".py",
   "mimetype": "text/x-python",
   "name": "python",
   "nbconvert_exporter": "python",
   "pygments_lexer": "ipython3",
   "version": "3.11.9"
  }
 },
 "nbformat": 4,
 "nbformat_minor": 5
}

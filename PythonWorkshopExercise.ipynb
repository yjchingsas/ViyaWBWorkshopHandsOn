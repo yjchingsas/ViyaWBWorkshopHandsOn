{
 "cells": [
  {
   "cell_type": "code",
   "execution_count": 1,
   "id": "8a847a00-5bdd-4330-8e60-2e790fe4f66d",
   "metadata": {},
   "outputs": [],
   "source": [
    "import pandas as pd\n",
    "# from sasviya.ml.tree import GradientBoostingClassifier\n",
    "from sklearn.ensemble import GradientBoostingClassifier"
   ]
  },
  {
   "cell_type": "code",
   "execution_count": 2,
   "id": "612492c0-5234-449a-af2c-ec96b844c6a8",
   "metadata": {},
   "outputs": [
    {
     "data": {
      "text/plain": [
       "1000000"
      ]
     },
     "execution_count": 2,
     "metadata": {},
     "output_type": "execute_result"
    }
   ],
   "source": [
    "syn_credit_data = pd.read_csv(\"/workspaces/myfolder/data/generated_lendingClub1M.csv\")\n",
    "len(syn_credit_data)"
   ]
  },
  {
   "cell_type": "code",
   "execution_count": 3,
   "id": "22e3149d-1542-4c26-b251-dcaa4cf2023e",
   "metadata": {},
   "outputs": [
    {
     "data": {
      "text/plain": [
       "CreditPolicy                          1\n",
       "Purpose              debt_consolidation\n",
       "InterestRate                     0.1265\n",
       "Installment                      314.98\n",
       "LogAnnualInc                   11.46961\n",
       "DebtIncRatio                       8.74\n",
       "FICOScore                           702\n",
       "CredLineAge                  4136.84858\n",
       "RevBalance                         8658\n",
       "RevUtilization                     75.6\n",
       "Inquiries6Mnths                       0\n",
       "Delinquencies2Yrs                     0\n",
       "PublicRecord                          0\n",
       "Default                               1\n",
       "Name: 0, dtype: object"
      ]
     },
     "execution_count": 3,
     "metadata": {},
     "output_type": "execute_result"
    }
   ],
   "source": [
    "syn_credit_data.loc[0]"
   ]
  },
  {
   "cell_type": "code",
   "execution_count": 4,
   "id": "350df32f-c8d9-4cf0-9895-96f5c4a68fef",
   "metadata": {},
   "outputs": [],
   "source": [
    "X = syn_credit_data.drop(columns=['Default', 'Purpose'])\n",
    "y = syn_credit_data['Default']"
   ]
  },
  {
   "cell_type": "code",
   "execution_count": 17,
   "id": "051ce0d1-66b8-42f3-9d99-5e8e0a4f27a3",
   "metadata": {},
   "outputs": [
    {
     "name": "stdout",
     "output_type": "stream",
     "text": [
      "4min 41s ± 0 ns per loop (mean ± std. dev. of 1 run, 1 loop each)\n"
     ]
    }
   ],
   "source": [
    "%%timeit -n 1 -r 1\n",
    "syn_skgb = GradientBoostingClassifier()\n",
    "syn_skgb.fit(X, y)"
   ]
  },
  {
   "cell_type": "code",
   "execution_count": 5,
   "id": "9ae9df4f-ab85-4cbd-b1c3-9a7a0ff66090",
   "metadata": {},
   "outputs": [],
   "source": [
    "import sasviya.ml.tree as sasviyaml"
   ]
  },
  {
   "cell_type": "code",
   "execution_count": 6,
   "id": "4b723cc1-4051-472d-8bce-478415949c25",
   "metadata": {},
   "outputs": [
    {
     "data": {
      "text/plain": [
       "GradientBoostingClassifier()"
      ]
     },
     "execution_count": 6,
     "metadata": {},
     "output_type": "execute_result"
    }
   ],
   "source": [
    "sas_gb = sasviyaml.GradientBoostingClassifier()\n",
    "sas_gb.fit(X, y)"
   ]
  },
  {
   "cell_type": "code",
   "execution_count": 7,
   "id": "035be3ce-4909-4c11-8855-05609f75537c",
   "metadata": {},
   "outputs": [],
   "source": [
    "import sasctl\n",
    "from pathlib import Path\n",
    "import os\n",
    "import requests"
   ]
  },
  {
   "cell_type": "code",
   "execution_count": 10,
   "id": "b846a15b-c469-46de-9aa9-efd593aa0af4",
   "metadata": {},
   "outputs": [
    {
     "name": "stderr",
     "output_type": "stream",
     "text": [
      "/usr/local/lib/python3.11/site-packages/urllib3/connectionpool.py:1103: InsecureRequestWarning: Unverified HTTPS request is being made to host 'apgtps2demo.gtp.unx.sas.com'. Adding certificate verification is strongly advised. See: https://urllib3.readthedocs.io/en/latest/advanced-usage.html#tls-warnings\n",
      "  warnings.warn(\n"
     ]
    },
    {
     "data": {
      "text/plain": [
       "b'<html>\\r\\n<head><title>503 Service Temporarily Unavailable</title></head>\\r\\n<body>\\r\\n<center><h1>503 Service Temporarily Unavailable</h1></center>\\r\\n<hr><center>nginx</center>\\r\\n</body>\\r\\n</html>\\r\\n'"
      ]
     },
     "execution_count": 10,
     "metadata": {},
     "output_type": "execute_result"
    }
   ],
   "source": [
    "## get access token for viya env using refresh token. change to your own viya server and preferred authentication method.\n",
    "url = \"https://apgtps2demo.gtp.unx.sas.com\"\n",
    "auth_url = f\"{url}/SASLogon/oauth/token\"\n",
    "## reading long-lived refresh token from txt file\n",
    "refresh_token = Path(f'/workspaces/{os.environ[\"DEFAULT_MOUNTNAME\"]}/apgtps2demo_refresh_token.txt').read_text().replace('\\n', '')\n",
    "\n",
    "payload=f'grant_type=refresh_token&refresh_token={refresh_token}'\n",
    "headers = {\n",
    "  'Accept': 'application/json',\n",
    "  'Content-Type': 'application/x-www-form-urlencoded',\n",
    "  'Authorization': 'Basic c2FzLmNsaTo=',\n",
    "}\n",
    "\n",
    "response = requests.request(\"POST\", auth_url, headers=headers, data=payload, verify=False)\n",
    "# access_token = response.json()['access_token']\n",
    "response.content"
   ]
  },
  {
   "cell_type": "code",
   "execution_count": 13,
   "id": "424d0d29-d883-431e-8a17-bff4f8bd2bf7",
   "metadata": {},
   "outputs": [
    {
     "data": {
      "text/plain": [
       "<sasctl.core.Session at 0x7f6d28dac410>"
      ]
     },
     "execution_count": 13,
     "metadata": {},
     "output_type": "execute_result"
    }
   ],
   "source": [
    "st = sasctl.Session(\"https://apgtps2demo.gtp.unx.sas.com\", token=access_token, verify_ssl=False)\n",
    "st"
   ]
  },
  {
   "cell_type": "code",
   "execution_count": 14,
   "id": "5e943a34-78cd-42e5-be8b-2c45dce248ee",
   "metadata": {},
   "outputs": [
    {
     "name": "stdout",
     "output_type": "stream",
     "text": [
      "Help on function register_model in module sasctl.tasks:\n",
      "\n",
      "register_model(model, name, project, repository=None, input=None, version=None, files=None, force=False, record_packages=True)\n",
      "    Register a model in the model repository.\n",
      "    \n",
      "    Parameters\n",
      "    ----------\n",
      "    model : swat.CASTable or sklearn.BaseEstimator\n",
      "        The model to register.  If an instance of ``swat.CASTable`` the table\n",
      "        is assumed to hold an ASTORE, which will be downloaded and used to\n",
      "        construct the model to register.  If a scikit-learn estimator, the\n",
      "        model will be pickled and uploaded to the registry and score code will\n",
      "        be generated for publishing the model to MAS.\n",
      "    name : str\n",
      "        Designated name for the model in the repository.\n",
      "    project : str or dict\n",
      "        The name or id of the project, or a dictionary representation of\n",
      "        the project.\n",
      "    repository : str or dict, optional\n",
      "        The name or id of the repository, or a dictionary representation of\n",
      "        the repository.  If omitted, the default repository will be used.\n",
      "    input : DataFrame, type, list of type, or dict of str: type, optional\n",
      "        The expected type for each input value of the target function.\n",
      "        Can be omitted if target function includes type hints.  If a DataFrame\n",
      "        is provided, the columns will be inspected to determine type\n",
      "        information.  If a single type is provided, all columns will be assumed\n",
      "        to be that type, otherwise a list of column types or a dictionary of\n",
      "        column_name: type may be provided.\n",
      "    version : {'new', 'latest', int}, optional\n",
      "        Version number of the project in which the model should be created.\n",
      "        Defaults to 'new'.\n",
      "    files : list\n",
      "        A list of dictionaries of the form\n",
      "        {'name': filename, 'file': filecontent}.\n",
      "        An optional 'role' key is supported for designating a file as score\n",
      "        code, astore, etc.\n",
      "    force : bool, optional\n",
      "        Create dependencies such as projects and repositories if they do not\n",
      "        already exist.\n",
      "    record_packages : bool, optional\n",
      "        Capture Python packages registered in the environment.  Defaults to\n",
      "        True.  Ignored if `model` is not a Python object.\n",
      "    \n",
      "    Returns\n",
      "    -------\n",
      "    model : RestObj\n",
      "        The newly registered model as an instance of ``RestObj``\n",
      "    \n",
      "    Notes\n",
      "    -----\n",
      "    If the specified model is a CAS table the model data and metadata will be\n",
      "    written to a temporary zip file and then imported using\n",
      "    model_repository.import_model_from_zip.\n",
      "    \n",
      "    If the specified model is from the Scikit-Learn package, the model will be\n",
      "    created using model_repository.create_model and any additional files will\n",
      "    be uploaded as content.\n",
      "    \n",
      "    .. versionchanged:: v1.3\n",
      "        Create requirements.txt with installed packages.\n",
      "    \n",
      "    .. versionchanged:: v1.4.5\n",
      "        Added `record_packages` parameter.\n",
      "    \n",
      "    .. versionchanged:: v1.7.4\n",
      "        Update ASTORE handling for ease of use and removal of SAS Viya 4 score code errors\n",
      "\n"
     ]
    }
   ],
   "source": [
    "help(sasctl.register_model)"
   ]
  },
  {
   "cell_type": "code",
   "execution_count": 21,
   "id": "67e171d8-378c-41dc-ab27-5202038e4f59",
   "metadata": {},
   "outputs": [
    {
     "data": {
      "text/plain": [
       "'c43204cc-b609-4eee-b052-d5f8940eaa3f'"
      ]
     },
     "execution_count": 21,
     "metadata": {},
     "output_type": "execute_result"
    }
   ],
   "source": [
    "from sasctl.services import model_repository as mr, model_management as mm\n",
    "project = mr.get_project(\"WB_Workshop\")\n",
    "project.id"
   ]
  },
  {
   "cell_type": "code",
   "execution_count": 22,
   "id": "3ed947f0-cbf9-4c85-ac70-c79f5b82b49c",
   "metadata": {},
   "outputs": [],
   "source": [
    "def register_model(model_name, model, project):\n",
    "    model_params = {\n",
    "        \"name\": model_name,\n",
    "        \"projectId\": project.id,\n",
    "        \"type\": \"ASTORE\",\n",
    "    }\n",
    "    astore = mr.post(\n",
    "        \"/models\",\n",
    "        files={\"files\": (f\"{model_name}.astore\", model.export())},\n",
    "        data=model_params,\n",
    "    )\n",
    "    print(astore)"
   ]
  },
  {
   "cell_type": "code",
   "execution_count": 23,
   "id": "328feb8a-8c82-460a-b506-4666a6849efb",
   "metadata": {},
   "outputs": [],
   "source": [
    "register_model(\"MyModel2\", sas_gb, project)"
   ]
  },
  {
   "cell_type": "code",
   "execution_count": null,
   "id": "a7f013dd-38f1-4398-b12c-8c8d8d640aa4",
   "metadata": {},
   "outputs": [],
   "source": []
  }
 ],
 "metadata": {
  "kernelspec": {
   "display_name": "Workbench Python",
   "language": "python",
   "name": "workbench_python"
  },
  "language_info": {
   "codemirror_mode": {
    "name": "ipython",
    "version": 3
   },
   "file_extension": ".py",
   "mimetype": "text/x-python",
   "name": "python",
   "nbconvert_exporter": "python",
   "pygments_lexer": "ipython3",
   "version": "3.11.9"
  }
 },
 "nbformat": 4,
 "nbformat_minor": 5
}

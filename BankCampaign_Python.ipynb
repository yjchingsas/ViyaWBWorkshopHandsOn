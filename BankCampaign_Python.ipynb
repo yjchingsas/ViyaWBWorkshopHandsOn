{
 "cells": [
  {
   "cell_type": "markdown",
   "id": "ba158b3b-cbf1-40f5-ab6e-50a9fcdc1026",
   "metadata": {},
   "source": [
    "# Workbench Workshop: Building AI Using SAS and Python"
   ]
  },
  {
   "attachments": {},
   "cell_type": "markdown",
   "id": "d39f9b03-244f-4991-8771-6752e2c4501f",
   "metadata": {},
   "source": [
    "This showcases an example end to end, of how to build Python models on SAS Viya Workbench, as well as utilise the new SAS Viya ML capabilities from the new Workbench Python API.\n",
    "\n",
    "For this example, we are analysing the latest campaign for a financial services firm. The purpose of our project is to build and train a few models which can be used to predict if a customer of the bank will purchase an insurance product from the bank for the current campaign. We will work together to find the best model for the firm.\n",
    "\n",
    "We are targeting the variable <b>Status</b> as it represents whether a customer did [1] or did not [0] purchase a product based on their current campaign.\n",
    "\n",
    "The bank data set is a sample taken from a large financial services firm accounts. Accounts in the data represent consumers of home equity lines of credit, automobile loans, and other types of short-term to medium-term credit instruments."
   ]
  },
  {
   "cell_type": "markdown",
   "id": "424d8f16-17f3-492d-9851-cd92a028b6e4",
   "metadata": {},
   "source": [
    "# Instructions\n",
    "\n",
    "This notebook is designed to be run from start to finish without making any changes to the script. You can, however, at anytime make any changes you wish.\n",
    "\n",
    "If you have not used Jupyter notebook before - you can click on the code cells and press the \"play\" button at the top menu. You can also use \"Shift + Enter\".\n",
    "\n",
    "On VSCode, the button is labelled \"Run All\"."
   ]
  },
  {
   "cell_type": "markdown",
   "id": "16922a62",
   "metadata": {},
   "source": [
    "Let's start by entering your name below, this will be used to tag the model that you build during this exercise"
   ]
  },
  {
   "cell_type": "code",
   "execution_count": 91,
   "id": "3348b8f9",
   "metadata": {},
   "outputs": [],
   "source": [
    "modeller = \"John Smith\""
   ]
  },
  {
   "cell_type": "markdown",
   "id": "ae15b961-bfb0-4303-a33d-84cc2f633b89",
   "metadata": {
    "jp-MarkdownHeadingCollapsed": true
   },
   "source": [
    "# Step 1: Install and Import Packages\n",
    "Importing Python packages is essential because it allows us to access pre-built functions and tools that streamline development. Some of these may be your favorites!"
   ]
  },
  {
   "cell_type": "markdown",
   "id": "79165a6f-2cb8-441c-bc24-05fdfdd676f3",
   "metadata": {},
   "source": [
    "## Install Packages"
   ]
  },
  {
   "cell_type": "code",
   "execution_count": 59,
   "id": "37d7287e-b38a-46e9-8e10-97d9dfdad6d5",
   "metadata": {},
   "outputs": [
    {
     "name": "stdout",
     "output_type": "stream",
     "text": [
      "Defaulting to user installation because normal site-packages is not writeable\n",
      "Requirement already satisfied: imbalanced-learn in /workspaces/myfolder/.user-python-packages/lib/python3.11/site-packages (0.12.3)\n",
      "Requirement already satisfied: numpy>=1.17.3 in /usr/local/lib64/python3.11/site-packages (from imbalanced-learn) (1.26.4)\n",
      "Requirement already satisfied: scipy>=1.5.0 in /usr/local/lib64/python3.11/site-packages (from imbalanced-learn) (1.12.0)\n",
      "Requirement already satisfied: scikit-learn>=1.0.2 in /workspaces/myfolder/.user-python-packages/lib/python3.11/site-packages (from imbalanced-learn) (1.5.1)\n",
      "Requirement already satisfied: joblib>=1.1.1 in /usr/local/lib/python3.11/site-packages (from imbalanced-learn) (1.3.2)\n",
      "Requirement already satisfied: threadpoolctl>=2.0.0 in /usr/local/lib/python3.11/site-packages (from imbalanced-learn) (3.3.0)\n",
      "Note: you may need to restart the kernel to use updated packages.\n"
     ]
    }
   ],
   "source": [
    "%pip install imbalanced-learn"
   ]
  },
  {
   "cell_type": "markdown",
   "id": "49c09dd3-31bf-423a-86c9-94bd2855be95",
   "metadata": {},
   "source": [
    "<div class=\"alert alert-info\" role=\"alert\">\n",
    "After you have installed imbalance-learn, please restart your kernel to assure imbalance-learn is fully incorporated. \n",
    "\n",
    "Can do this by finding \"Kernel\" at the top of the page and clicking \"Restart kernel\"\n",
    "</div>"
   ]
  },
  {
   "cell_type": "markdown",
   "id": "0de2ae02-df96-4d38-93b8-dcc82fd5b26e",
   "metadata": {},
   "source": [
    "## Import Packages"
   ]
  },
  {
   "cell_type": "code",
   "execution_count": 60,
   "id": "d10ad630-6fda-41cb-bd06-44a028a786b1",
   "metadata": {},
   "outputs": [],
   "source": [
    "import os\n",
    "import numpy as np\n",
    "import pandas as pd\n",
    "import seaborn as sns\n",
    "import matplotlib.pyplot as plt\n",
    "import joblib\n",
    "\n",
    "from sklearn.preprocessing import LabelEncoder\n",
    "from sklearn.model_selection import train_test_split\n",
    "from sklearn.ensemble import RandomForestClassifier, GradientBoostingClassifier\n",
    "from sklearn.tree import DecisionTreeClassifier\n",
    "from sklearn.metrics import classification_report, accuracy_score, recall_score\n",
    "\n",
    "from imblearn.combine import SMOTEENN\n",
    "from imblearn.pipeline import Pipeline\n",
    "from imblearn.over_sampling import SMOTE"
   ]
  },
  {
   "cell_type": "markdown",
   "id": "2901bdb0-58d9-4b6e-b081-5073d0214f27",
   "metadata": {
    "jp-MarkdownHeadingCollapsed": true
   },
   "source": [
    "# Step 2: Importing our Data"
   ]
  },
  {
   "cell_type": "code",
   "execution_count": 61,
   "id": "2bca13cb-8e20-43e0-bfad-0b10c4bd1718",
   "metadata": {},
   "outputs": [
    {
     "name": "stdout",
     "output_type": "stream",
     "text": [
      "Training data shape (108600, 21)\n"
     ]
    }
   ],
   "source": [
    "# Save the bank's data as a dataframe \n",
    "# Using the pandas package \n",
    "\n",
    "# Call csv file by name\n",
    "bank = pd.read_csv(\"./bank.csv\")\n",
    "\n",
    "# Show how many rows and columns in our data\n",
    "print(\"Training data shape\", bank.shape)"
   ]
  },
  {
   "cell_type": "code",
   "execution_count": 62,
   "id": "f029be1e-423f-433a-b8d2-a473db682fb2",
   "metadata": {},
   "outputs": [
    {
     "data": {
      "text/html": [
       "<div>\n",
       "<style scoped>\n",
       "    .dataframe tbody tr th:only-of-type {\n",
       "        vertical-align: middle;\n",
       "    }\n",
       "\n",
       "    .dataframe tbody tr th {\n",
       "        vertical-align: top;\n",
       "    }\n",
       "\n",
       "    .dataframe thead th {\n",
       "        text-align: right;\n",
       "    }\n",
       "</style>\n",
       "<table border=\"1\" class=\"dataframe\">\n",
       "  <thead>\n",
       "    <tr style=\"text-align: right;\">\n",
       "      <th></th>\n",
       "      <th>AccountID</th>\n",
       "      <th>Status</th>\n",
       "      <th>Customer_Value</th>\n",
       "      <th>Age</th>\n",
       "      <th>Home_Flag</th>\n",
       "      <th>Homeval</th>\n",
       "      <th>Inc</th>\n",
       "      <th>Pr</th>\n",
       "      <th>Activity_Status</th>\n",
       "      <th>AvgSale3Yr</th>\n",
       "      <th>...</th>\n",
       "      <th>AvgSale3Yr_DP</th>\n",
       "      <th>LastProdAmt</th>\n",
       "      <th>CntPur3Yr</th>\n",
       "      <th>CntPurLife</th>\n",
       "      <th>CntPur3Yr_DP</th>\n",
       "      <th>CntPurLife_DP</th>\n",
       "      <th>CntTotPromo</th>\n",
       "      <th>MnthsLastPur</th>\n",
       "      <th>Cnt1Yr_DP</th>\n",
       "      <th>CustTenure</th>\n",
       "    </tr>\n",
       "  </thead>\n",
       "  <tbody>\n",
       "    <tr>\n",
       "      <th>0</th>\n",
       "      <td>5200000001</td>\n",
       "      <td>1</td>\n",
       "      <td>A</td>\n",
       "      <td>NaN</td>\n",
       "      <td>0</td>\n",
       "      <td>57600</td>\n",
       "      <td>52106</td>\n",
       "      <td>24</td>\n",
       "      <td>High</td>\n",
       "      <td>5.71</td>\n",
       "      <td>...</td>\n",
       "      <td>5.25</td>\n",
       "      <td>10.0</td>\n",
       "      <td>7</td>\n",
       "      <td>22</td>\n",
       "      <td>4</td>\n",
       "      <td>6</td>\n",
       "      <td>20</td>\n",
       "      <td>5</td>\n",
       "      <td>9</td>\n",
       "      <td>92</td>\n",
       "    </tr>\n",
       "    <tr>\n",
       "      <th>1</th>\n",
       "      <td>5200000002</td>\n",
       "      <td>1</td>\n",
       "      <td>A</td>\n",
       "      <td>NaN</td>\n",
       "      <td>0</td>\n",
       "      <td>57587</td>\n",
       "      <td>52106</td>\n",
       "      <td>24</td>\n",
       "      <td>High</td>\n",
       "      <td>5.71</td>\n",
       "      <td>...</td>\n",
       "      <td>5.25</td>\n",
       "      <td>10.0</td>\n",
       "      <td>7</td>\n",
       "      <td>22</td>\n",
       "      <td>4</td>\n",
       "      <td>6</td>\n",
       "      <td>20</td>\n",
       "      <td>5</td>\n",
       "      <td>9</td>\n",
       "      <td>92</td>\n",
       "    </tr>\n",
       "    <tr>\n",
       "      <th>2</th>\n",
       "      <td>5200000003</td>\n",
       "      <td>1</td>\n",
       "      <td>A</td>\n",
       "      <td>NaN</td>\n",
       "      <td>0</td>\n",
       "      <td>44167</td>\n",
       "      <td>42422</td>\n",
       "      <td>0</td>\n",
       "      <td>High</td>\n",
       "      <td>12.80</td>\n",
       "      <td>...</td>\n",
       "      <td>13.00</td>\n",
       "      <td>12.0</td>\n",
       "      <td>5</td>\n",
       "      <td>16</td>\n",
       "      <td>3</td>\n",
       "      <td>8</td>\n",
       "      <td>27</td>\n",
       "      <td>16</td>\n",
       "      <td>11</td>\n",
       "      <td>91</td>\n",
       "    </tr>\n",
       "    <tr>\n",
       "      <th>3</th>\n",
       "      <td>5200000004</td>\n",
       "      <td>0</td>\n",
       "      <td>A</td>\n",
       "      <td>68.0</td>\n",
       "      <td>0</td>\n",
       "      <td>90587</td>\n",
       "      <td>59785</td>\n",
       "      <td>32</td>\n",
       "      <td>High</td>\n",
       "      <td>21.60</td>\n",
       "      <td>...</td>\n",
       "      <td>20.00</td>\n",
       "      <td>25.0</td>\n",
       "      <td>5</td>\n",
       "      <td>21</td>\n",
       "      <td>2</td>\n",
       "      <td>7</td>\n",
       "      <td>19</td>\n",
       "      <td>15</td>\n",
       "      <td>9</td>\n",
       "      <td>123</td>\n",
       "    </tr>\n",
       "    <tr>\n",
       "      <th>4</th>\n",
       "      <td>5200000005</td>\n",
       "      <td>0</td>\n",
       "      <td>A</td>\n",
       "      <td>NaN</td>\n",
       "      <td>0</td>\n",
       "      <td>100313</td>\n",
       "      <td>0</td>\n",
       "      <td>0</td>\n",
       "      <td>High</td>\n",
       "      <td>7.33</td>\n",
       "      <td>...</td>\n",
       "      <td>7.60</td>\n",
       "      <td>10.0</td>\n",
       "      <td>6</td>\n",
       "      <td>38</td>\n",
       "      <td>5</td>\n",
       "      <td>19</td>\n",
       "      <td>13</td>\n",
       "      <td>24</td>\n",
       "      <td>6</td>\n",
       "      <td>128</td>\n",
       "    </tr>\n",
       "  </tbody>\n",
       "</table>\n",
       "<p>5 rows × 21 columns</p>\n",
       "</div>"
      ],
      "text/plain": [
       "    AccountID  Status Customer_Value   Age  Home_Flag  Homeval    Inc  Pr  \\\n",
       "0  5200000001       1              A   NaN          0    57600  52106  24   \n",
       "1  5200000002       1              A   NaN          0    57587  52106  24   \n",
       "2  5200000003       1              A   NaN          0    44167  42422   0   \n",
       "3  5200000004       0              A  68.0          0    90587  59785  32   \n",
       "4  5200000005       0              A   NaN          0   100313      0   0   \n",
       "\n",
       "  Activity_Status  AvgSale3Yr  ...  AvgSale3Yr_DP  LastProdAmt  CntPur3Yr  \\\n",
       "0            High        5.71  ...           5.25         10.0          7   \n",
       "1            High        5.71  ...           5.25         10.0          7   \n",
       "2            High       12.80  ...          13.00         12.0          5   \n",
       "3            High       21.60  ...          20.00         25.0          5   \n",
       "4            High        7.33  ...           7.60         10.0          6   \n",
       "\n",
       "   CntPurLife  CntPur3Yr_DP  CntPurLife_DP  CntTotPromo  MnthsLastPur  \\\n",
       "0          22             4              6           20             5   \n",
       "1          22             4              6           20             5   \n",
       "2          16             3              8           27            16   \n",
       "3          21             2              7           19            15   \n",
       "4          38             5             19           13            24   \n",
       "\n",
       "   Cnt1Yr_DP  CustTenure  \n",
       "0          9          92  \n",
       "1          9          92  \n",
       "2         11          91  \n",
       "3          9         123  \n",
       "4          6         128  \n",
       "\n",
       "[5 rows x 21 columns]"
      ]
     },
     "execution_count": 62,
     "metadata": {},
     "output_type": "execute_result"
    }
   ],
   "source": [
    "# Have a glimpse of 5 rows from our dataset\n",
    "bank.head()"
   ]
  },
  {
   "cell_type": "markdown",
   "id": "e6aff9e9-58d7-4f1e-8c0d-ef9414a10b50",
   "metadata": {},
   "source": [
    "<div class=\"alert alert-info\" role=\"alert\">\n",
    "We now have our dataset ready to roll. Let's learn more about what information this dataset holds and what insight we can reach.\n",
    "</div>"
   ]
  },
  {
   "cell_type": "markdown",
   "id": "8f7c53a9-bddd-4b1e-ba06-3745d842054b",
   "metadata": {
    "jp-MarkdownHeadingCollapsed": true
   },
   "source": [
    "# Step 3: Exploratory Data Analysis (EDA)\n",
    "\n",
    "On Workbench, we can conduct our EDA, using the standard Python frameworks like pandas and matplotlib. On Workbench, we didn't have to set these up - they're already configured and we can get started immediately."
   ]
  },
  {
   "cell_type": "markdown",
   "id": "28b05b52-3db4-48bb-b8cb-3b7cfab2b25a",
   "metadata": {},
   "source": [
    "## Variables "
   ]
  },
  {
   "cell_type": "code",
   "execution_count": 63,
   "id": "d30def92-8b9f-46e4-b07e-0b6d8129881b",
   "metadata": {},
   "outputs": [
    {
     "name": "stdout",
     "output_type": "stream",
     "text": [
      "<class 'pandas.core.frame.DataFrame'>\n",
      "RangeIndex: 108600 entries, 0 to 108599\n",
      "Data columns (total 21 columns):\n",
      " #   Column           Non-Null Count   Dtype  \n",
      "---  ------           --------------   -----  \n",
      " 0   AccountID        108600 non-null  int64  \n",
      " 1   Status           108600 non-null  int64  \n",
      " 2   Customer_Value   108600 non-null  object \n",
      " 3   Age              81143 non-null   float64\n",
      " 4   Home_Flag        108600 non-null  int64  \n",
      " 5   Homeval          108600 non-null  int64  \n",
      " 6   Inc              108600 non-null  int64  \n",
      " 7   Pr               108600 non-null  int64  \n",
      " 8   Activity_Status  108600 non-null  object \n",
      " 9   AvgSale3Yr       108600 non-null  float64\n",
      " 10  AvgSaleLife      108600 non-null  float64\n",
      " 11  AvgSale3Yr_DP    85445 non-null   float64\n",
      " 12  LastProdAmt      108600 non-null  float64\n",
      " 13  CntPur3Yr        108600 non-null  int64  \n",
      " 14  CntPurLife       108600 non-null  int64  \n",
      " 15  CntPur3Yr_DP     108600 non-null  int64  \n",
      " 16  CntPurLife_DP    108600 non-null  int64  \n",
      " 17  CntTotPromo      108600 non-null  int64  \n",
      " 18  MnthsLastPur     108600 non-null  int64  \n",
      " 19  Cnt1Yr_DP        108600 non-null  int64  \n",
      " 20  CustTenure       108600 non-null  int64  \n",
      "dtypes: float64(5), int64(14), object(2)\n",
      "memory usage: 17.4+ MB\n"
     ]
    }
   ],
   "source": [
    "# understanding column names and format\n",
    "\n",
    "bank.info()"
   ]
  },
  {
   "cell_type": "markdown",
   "id": "04dfec09-2437-4f67-96dc-d818c47a884c",
   "metadata": {},
   "source": [
    "<div class=\"alert alert-info\" role=\"alert\">\n",
    "We have a few variables which we would like to treat as categorical variables for future exploration.\n",
    "</div>"
   ]
  },
  {
   "cell_type": "markdown",
   "id": "d2095d57-53c6-4f88-958e-f74e8ca70ea6",
   "metadata": {},
   "source": [
    "## Missing Data"
   ]
  },
  {
   "cell_type": "code",
   "execution_count": 64,
   "id": "2d8b8bcc-6f9d-49d4-9e41-a6e4acc35cdf",
   "metadata": {},
   "outputs": [
    {
     "data": {
      "text/plain": [
       "AccountID              0\n",
       "Status                 0\n",
       "Customer_Value         0\n",
       "Age                27457\n",
       "Home_Flag              0\n",
       "Homeval                0\n",
       "Inc                    0\n",
       "Pr                     0\n",
       "Activity_Status        0\n",
       "AvgSale3Yr             0\n",
       "AvgSaleLife            0\n",
       "AvgSale3Yr_DP      23155\n",
       "LastProdAmt            0\n",
       "CntPur3Yr              0\n",
       "CntPurLife             0\n",
       "CntPur3Yr_DP           0\n",
       "CntPurLife_DP          0\n",
       "CntTotPromo            0\n",
       "MnthsLastPur           0\n",
       "Cnt1Yr_DP              0\n",
       "CustTenure             0\n",
       "dtype: int64"
      ]
     },
     "execution_count": 64,
     "metadata": {},
     "output_type": "execute_result"
    }
   ],
   "source": [
    "# Checking for missing data in our variables\n",
    "bank.isna().sum()"
   ]
  },
  {
   "cell_type": "markdown",
   "id": "d8c0a5d2-a766-4647-8ac8-f19aaae23be5",
   "metadata": {},
   "source": [
    "<div class=\"alert alert-info\" role=\"alert\">\n",
    "Missing about 25% of data in 2 variables - Age and AvgSale3Yr_DP. We will need to address this before modelling.\n",
    "</div>"
   ]
  },
  {
   "cell_type": "markdown",
   "id": "e36196e7-4127-4217-b927-66f8ff6655d4",
   "metadata": {},
   "source": [
    "## Summary Statistics"
   ]
  },
  {
   "cell_type": "code",
   "execution_count": 65,
   "id": "55f88122-f586-4e33-aacb-5f383eda5d15",
   "metadata": {},
   "outputs": [
    {
     "data": {
      "text/html": [
       "<div>\n",
       "<style scoped>\n",
       "    .dataframe tbody tr th:only-of-type {\n",
       "        vertical-align: middle;\n",
       "    }\n",
       "\n",
       "    .dataframe tbody tr th {\n",
       "        vertical-align: top;\n",
       "    }\n",
       "\n",
       "    .dataframe thead th {\n",
       "        text-align: right;\n",
       "    }\n",
       "</style>\n",
       "<table border=\"1\" class=\"dataframe\">\n",
       "  <thead>\n",
       "    <tr style=\"text-align: right;\">\n",
       "      <th></th>\n",
       "      <th>count</th>\n",
       "      <th>mean</th>\n",
       "      <th>std</th>\n",
       "      <th>min</th>\n",
       "      <th>25%</th>\n",
       "      <th>50%</th>\n",
       "      <th>75%</th>\n",
       "      <th>max</th>\n",
       "    </tr>\n",
       "  </thead>\n",
       "  <tbody>\n",
       "    <tr>\n",
       "      <th>AccountID</th>\n",
       "      <td>108600.0</td>\n",
       "      <td>5.200054e+09</td>\n",
       "      <td>31350.263954</td>\n",
       "      <td>5.200000e+09</td>\n",
       "      <td>5.200027e+09</td>\n",
       "      <td>5.200054e+09</td>\n",
       "      <td>5.200081e+09</td>\n",
       "      <td>5.200109e+09</td>\n",
       "    </tr>\n",
       "    <tr>\n",
       "      <th>Status</th>\n",
       "      <td>108600.0</td>\n",
       "      <td>2.067495e-01</td>\n",
       "      <td>0.404976</td>\n",
       "      <td>0.000000e+00</td>\n",
       "      <td>0.000000e+00</td>\n",
       "      <td>0.000000e+00</td>\n",
       "      <td>0.000000e+00</td>\n",
       "      <td>1.000000e+00</td>\n",
       "    </tr>\n",
       "    <tr>\n",
       "      <th>Age</th>\n",
       "      <td>81143.0</td>\n",
       "      <td>5.879187e+01</td>\n",
       "      <td>16.912909</td>\n",
       "      <td>0.000000e+00</td>\n",
       "      <td>4.600000e+01</td>\n",
       "      <td>6.000000e+01</td>\n",
       "      <td>7.300000e+01</td>\n",
       "      <td>8.800000e+01</td>\n",
       "    </tr>\n",
       "    <tr>\n",
       "      <th>Home_Flag</th>\n",
       "      <td>108600.0</td>\n",
       "      <td>5.489411e-01</td>\n",
       "      <td>0.497601</td>\n",
       "      <td>0.000000e+00</td>\n",
       "      <td>0.000000e+00</td>\n",
       "      <td>1.000000e+00</td>\n",
       "      <td>1.000000e+00</td>\n",
       "      <td>1.000000e+00</td>\n",
       "    </tr>\n",
       "    <tr>\n",
       "      <th>Homeval</th>\n",
       "      <td>108600.0</td>\n",
       "      <td>1.132815e+05</td>\n",
       "      <td>99259.281461</td>\n",
       "      <td>0.000000e+00</td>\n",
       "      <td>5.300775e+04</td>\n",
       "      <td>7.808350e+04</td>\n",
       "      <td>1.352010e+05</td>\n",
       "      <td>6.000490e+05</td>\n",
       "    </tr>\n",
       "    <tr>\n",
       "      <th>Inc</th>\n",
       "      <td>108600.0</td>\n",
       "      <td>4.045955e+04</td>\n",
       "      <td>28388.996919</td>\n",
       "      <td>0.000000e+00</td>\n",
       "      <td>2.465375e+04</td>\n",
       "      <td>4.321300e+04</td>\n",
       "      <td>5.722300e+04</td>\n",
       "      <td>2.000070e+05</td>\n",
       "    </tr>\n",
       "    <tr>\n",
       "      <th>Pr</th>\n",
       "      <td>108600.0</td>\n",
       "      <td>2.963630e+01</td>\n",
       "      <td>12.112024</td>\n",
       "      <td>0.000000e+00</td>\n",
       "      <td>2.400000e+01</td>\n",
       "      <td>3.000000e+01</td>\n",
       "      <td>3.700000e+01</td>\n",
       "      <td>1.000000e+02</td>\n",
       "    </tr>\n",
       "    <tr>\n",
       "      <th>AvgSale3Yr</th>\n",
       "      <td>108600.0</td>\n",
       "      <td>1.619683e+01</td>\n",
       "      <td>18.744587</td>\n",
       "      <td>-1.000000e+00</td>\n",
       "      <td>1.000000e+01</td>\n",
       "      <td>1.500000e+01</td>\n",
       "      <td>2.000000e+01</td>\n",
       "      <td>3.713310e+03</td>\n",
       "    </tr>\n",
       "    <tr>\n",
       "      <th>AvgSaleLife</th>\n",
       "      <td>108600.0</td>\n",
       "      <td>1.347162e+01</td>\n",
       "      <td>9.767661</td>\n",
       "      <td>1.580000e+00</td>\n",
       "      <td>8.480000e+00</td>\n",
       "      <td>1.167000e+01</td>\n",
       "      <td>1.567000e+01</td>\n",
       "      <td>6.500000e+02</td>\n",
       "    </tr>\n",
       "    <tr>\n",
       "      <th>AvgSale3Yr_DP</th>\n",
       "      <td>85445.0</td>\n",
       "      <td>1.542408e+01</td>\n",
       "      <td>18.420151</td>\n",
       "      <td>3.200000e-01</td>\n",
       "      <td>1.000000e+01</td>\n",
       "      <td>1.400000e+01</td>\n",
       "      <td>2.000000e+01</td>\n",
       "      <td>3.713310e+03</td>\n",
       "    </tr>\n",
       "    <tr>\n",
       "      <th>LastProdAmt</th>\n",
       "      <td>108600.0</td>\n",
       "      <td>1.756285e+01</td>\n",
       "      <td>35.787172</td>\n",
       "      <td>-1.000000e+00</td>\n",
       "      <td>1.000000e+01</td>\n",
       "      <td>1.500000e+01</td>\n",
       "      <td>2.000000e+01</td>\n",
       "      <td>1.000000e+04</td>\n",
       "    </tr>\n",
       "    <tr>\n",
       "      <th>CntPur3Yr</th>\n",
       "      <td>108600.0</td>\n",
       "      <td>2.905414e+00</td>\n",
       "      <td>2.028177</td>\n",
       "      <td>0.000000e+00</td>\n",
       "      <td>1.000000e+00</td>\n",
       "      <td>2.000000e+00</td>\n",
       "      <td>4.000000e+00</td>\n",
       "      <td>1.800000e+01</td>\n",
       "    </tr>\n",
       "    <tr>\n",
       "      <th>CntPurLife</th>\n",
       "      <td>108600.0</td>\n",
       "      <td>9.574116e+00</td>\n",
       "      <td>8.553524</td>\n",
       "      <td>0.000000e+00</td>\n",
       "      <td>3.000000e+00</td>\n",
       "      <td>7.000000e+00</td>\n",
       "      <td>1.300000e+01</td>\n",
       "      <td>1.260000e+02</td>\n",
       "    </tr>\n",
       "    <tr>\n",
       "      <th>CntPur3Yr_DP</th>\n",
       "      <td>108600.0</td>\n",
       "      <td>1.665958e+00</td>\n",
       "      <td>1.526426</td>\n",
       "      <td>0.000000e+00</td>\n",
       "      <td>1.000000e+00</td>\n",
       "      <td>1.000000e+00</td>\n",
       "      <td>2.000000e+00</td>\n",
       "      <td>1.000000e+01</td>\n",
       "    </tr>\n",
       "    <tr>\n",
       "      <th>CntPurLife_DP</th>\n",
       "      <td>108600.0</td>\n",
       "      <td>5.024052e+00</td>\n",
       "      <td>4.509325</td>\n",
       "      <td>0.000000e+00</td>\n",
       "      <td>2.000000e+00</td>\n",
       "      <td>4.000000e+00</td>\n",
       "      <td>7.000000e+00</td>\n",
       "      <td>4.500000e+01</td>\n",
       "    </tr>\n",
       "    <tr>\n",
       "      <th>CntTotPromo</th>\n",
       "      <td>108600.0</td>\n",
       "      <td>1.297861e+01</td>\n",
       "      <td>4.759592</td>\n",
       "      <td>0.000000e+00</td>\n",
       "      <td>1.100000e+01</td>\n",
       "      <td>1.200000e+01</td>\n",
       "      <td>1.400000e+01</td>\n",
       "      <td>7.700000e+01</td>\n",
       "    </tr>\n",
       "    <tr>\n",
       "      <th>MnthsLastPur</th>\n",
       "      <td>108600.0</td>\n",
       "      <td>1.830959e+01</td>\n",
       "      <td>4.077323</td>\n",
       "      <td>3.000000e+00</td>\n",
       "      <td>1.600000e+01</td>\n",
       "      <td>1.800000e+01</td>\n",
       "      <td>2.000000e+01</td>\n",
       "      <td>2.800000e+01</td>\n",
       "    </tr>\n",
       "    <tr>\n",
       "      <th>Cnt1Yr_DP</th>\n",
       "      <td>108600.0</td>\n",
       "      <td>5.368481e+00</td>\n",
       "      <td>1.373973</td>\n",
       "      <td>0.000000e+00</td>\n",
       "      <td>5.000000e+00</td>\n",
       "      <td>6.000000e+00</td>\n",
       "      <td>6.000000e+00</td>\n",
       "      <td>2.200000e+01</td>\n",
       "    </tr>\n",
       "    <tr>\n",
       "      <th>CustTenure</th>\n",
       "      <td>108600.0</td>\n",
       "      <td>6.807661e+01</td>\n",
       "      <td>37.295877</td>\n",
       "      <td>0.000000e+00</td>\n",
       "      <td>3.300000e+01</td>\n",
       "      <td>6.400000e+01</td>\n",
       "      <td>1.020000e+02</td>\n",
       "      <td>5.710000e+02</td>\n",
       "    </tr>\n",
       "  </tbody>\n",
       "</table>\n",
       "</div>"
      ],
      "text/plain": [
       "                  count          mean           std           min  \\\n",
       "AccountID      108600.0  5.200054e+09  31350.263954  5.200000e+09   \n",
       "Status         108600.0  2.067495e-01      0.404976  0.000000e+00   \n",
       "Age             81143.0  5.879187e+01     16.912909  0.000000e+00   \n",
       "Home_Flag      108600.0  5.489411e-01      0.497601  0.000000e+00   \n",
       "Homeval        108600.0  1.132815e+05  99259.281461  0.000000e+00   \n",
       "Inc            108600.0  4.045955e+04  28388.996919  0.000000e+00   \n",
       "Pr             108600.0  2.963630e+01     12.112024  0.000000e+00   \n",
       "AvgSale3Yr     108600.0  1.619683e+01     18.744587 -1.000000e+00   \n",
       "AvgSaleLife    108600.0  1.347162e+01      9.767661  1.580000e+00   \n",
       "AvgSale3Yr_DP   85445.0  1.542408e+01     18.420151  3.200000e-01   \n",
       "LastProdAmt    108600.0  1.756285e+01     35.787172 -1.000000e+00   \n",
       "CntPur3Yr      108600.0  2.905414e+00      2.028177  0.000000e+00   \n",
       "CntPurLife     108600.0  9.574116e+00      8.553524  0.000000e+00   \n",
       "CntPur3Yr_DP   108600.0  1.665958e+00      1.526426  0.000000e+00   \n",
       "CntPurLife_DP  108600.0  5.024052e+00      4.509325  0.000000e+00   \n",
       "CntTotPromo    108600.0  1.297861e+01      4.759592  0.000000e+00   \n",
       "MnthsLastPur   108600.0  1.830959e+01      4.077323  3.000000e+00   \n",
       "Cnt1Yr_DP      108600.0  5.368481e+00      1.373973  0.000000e+00   \n",
       "CustTenure     108600.0  6.807661e+01     37.295877  0.000000e+00   \n",
       "\n",
       "                        25%           50%           75%           max  \n",
       "AccountID      5.200027e+09  5.200054e+09  5.200081e+09  5.200109e+09  \n",
       "Status         0.000000e+00  0.000000e+00  0.000000e+00  1.000000e+00  \n",
       "Age            4.600000e+01  6.000000e+01  7.300000e+01  8.800000e+01  \n",
       "Home_Flag      0.000000e+00  1.000000e+00  1.000000e+00  1.000000e+00  \n",
       "Homeval        5.300775e+04  7.808350e+04  1.352010e+05  6.000490e+05  \n",
       "Inc            2.465375e+04  4.321300e+04  5.722300e+04  2.000070e+05  \n",
       "Pr             2.400000e+01  3.000000e+01  3.700000e+01  1.000000e+02  \n",
       "AvgSale3Yr     1.000000e+01  1.500000e+01  2.000000e+01  3.713310e+03  \n",
       "AvgSaleLife    8.480000e+00  1.167000e+01  1.567000e+01  6.500000e+02  \n",
       "AvgSale3Yr_DP  1.000000e+01  1.400000e+01  2.000000e+01  3.713310e+03  \n",
       "LastProdAmt    1.000000e+01  1.500000e+01  2.000000e+01  1.000000e+04  \n",
       "CntPur3Yr      1.000000e+00  2.000000e+00  4.000000e+00  1.800000e+01  \n",
       "CntPurLife     3.000000e+00  7.000000e+00  1.300000e+01  1.260000e+02  \n",
       "CntPur3Yr_DP   1.000000e+00  1.000000e+00  2.000000e+00  1.000000e+01  \n",
       "CntPurLife_DP  2.000000e+00  4.000000e+00  7.000000e+00  4.500000e+01  \n",
       "CntTotPromo    1.100000e+01  1.200000e+01  1.400000e+01  7.700000e+01  \n",
       "MnthsLastPur   1.600000e+01  1.800000e+01  2.000000e+01  2.800000e+01  \n",
       "Cnt1Yr_DP      5.000000e+00  6.000000e+00  6.000000e+00  2.200000e+01  \n",
       "CustTenure     3.300000e+01  6.400000e+01  1.020000e+02  5.710000e+02  "
      ]
     },
     "execution_count": 65,
     "metadata": {},
     "output_type": "execute_result"
    }
   ],
   "source": [
    "# Show count, mean, ranges and other useful information to understanding our data\n",
    "\n",
    "bank.describe().T"
   ]
  },
  {
   "cell_type": "markdown",
   "id": "fb2b0172-30cd-4004-b859-ebf8472a43ca",
   "metadata": {},
   "source": [
    "## Distribution"
   ]
  },
  {
   "cell_type": "code",
   "execution_count": 66,
   "id": "c3119941-2da9-487b-a376-e5fec5dc6f08",
   "metadata": {},
   "outputs": [],
   "source": [
    "# Creating a function to plot our data with the details we need\n",
    "\n",
    "def plot_distribution(column):\n",
    "    labels = column.value_counts().index\n",
    "    values = column.value_counts().values\n",
    "\n",
    "    fig, axs = plt.subplots(1, 2, figsize=(12, 6))\n",
    "\n",
    "    axs[0].pie(values, labels=labels, autopct='%1.1f%%', startangle=140)\n",
    "    axs[0].set_title(f'{column.name} Distribution (Pie Chart)')\n",
    "\n",
    "    axs[1].bar(labels, values)\n",
    "    axs[1].set_title(f'{column.name} Distribution (Bar Chart)')\n",
    "    axs[1].set_xlabel(column.name)\n",
    "    axs[1].set_ylabel('Count')\n",
    "\n",
    "    plt.tight_layout()\n",
    "    plt.show()"
   ]
  },
  {
   "cell_type": "code",
   "execution_count": 67,
   "id": "e0ad0060-e2bf-4490-9b5f-c558a769bfc8",
   "metadata": {},
   "outputs": [
    {
     "data": {
      "image/png": "[encoded data removed]",
      "text/plain": [
       "<Figure size 1200x600 with 2 Axes>"
      ]
     },
     "metadata": {},
     "output_type": "display_data"
    }
   ],
   "source": [
    "# Target Variable: Status\n",
    "\n",
    "plot_distribution(bank[\"Status\"])"
   ]
  },
  {
   "cell_type": "markdown",
   "id": "968c8b0b-62ec-477f-82f9-2e412649a70f",
   "metadata": {},
   "source": [
    "<div class=\"alert alert-info\" role=\"alert\">\n",
    "Our data is imbalanced - only 25% of our data represents those who did purchase a product based on the campaign. Addressing imbalanced data is important in machine learning because it ensures that our models can make accurate predictions for all types of outcomes, not just the most common ones. When data is imbalanced, the model might favor predicting the majority class, ignoring minority ones.\n",
    "</div>"
   ]
  },
  {
   "cell_type": "code",
   "execution_count": 68,
   "id": "2cc36b3e-77e5-44a2-8500-f0606d49db60",
   "metadata": {
    "editable": true,
    "slideshow": {
     "slide_type": ""
    },
    "tags": []
   },
   "outputs": [
    {
     "data": {
      "image/png": "[encoded data removed]",
      "text/plain": [
       "<Figure size 1200x600 with 1 Axes>"
      ]
     },
     "metadata": {},
     "output_type": "display_data"
    }
   ],
   "source": [
    "# Calculate the frequency of each unique value in MnthsLastPur\n",
    "month_counts = bank['MnthsLastPur'].value_counts().sort_index()\n",
    "\n",
    "# Create bar chart\n",
    "plt.figure(figsize=(12, 6))\n",
    "plt.bar(month_counts.index, month_counts.values, color='skyblue')\n",
    "plt.xlabel('Months Since Last Purchase')\n",
    "plt.ylabel('Count')\n",
    "plt.title('Frequency of Months Since Last Purchase')\n",
    "plt.xticks(month_counts.index)\n",
    "plt.grid(axis='y', linestyle='--', alpha=0.7)\n",
    "plt.show()"
   ]
  },
  {
   "cell_type": "markdown",
   "id": "76196909-d50e-4918-8b70-2d47e6a6fdfb",
   "metadata": {},
   "source": [
    "<div class=\"alert alert-info\" role=\"alert\">\n",
    "Our bar chart shows us that most customers wait 15-21 months before purchasing again\n",
    "</div>"
   ]
  },
  {
   "cell_type": "markdown",
   "id": "d5dafa42-3a69-4ccd-912f-214e462717b3",
   "metadata": {},
   "source": [
    "## Correlation"
   ]
  },
  {
   "cell_type": "code",
   "execution_count": 69,
   "id": "a0a531e3-480a-42e6-819c-d1fba66b31db",
   "metadata": {
    "editable": true,
    "slideshow": {
     "slide_type": ""
    },
    "tags": []
   },
   "outputs": [
    {
     "data": {
      "image/png": "[encoded data removed]",
      "text/plain": [
       "<Figure size 1200x800 with 2 Axes>"
      ]
     },
     "metadata": {},
     "output_type": "display_data"
    }
   ],
   "source": [
    "# Selecting our numerical values\n",
    "\n",
    "numerical_df = bank.select_dtypes(include=['int64', 'float64'])\n",
    "\n",
    "# Building our correlation heatmap\n",
    "\n",
    "plt.figure(figsize=(12, 8))\n",
    "sns.heatmap(numerical_df.corr(), annot=True, cmap='coolwarm', linewidths=.5)\n",
    "plt.title('Correlation Heatmap')\n",
    "plt.show()"
   ]
  },
  {
   "cell_type": "markdown",
   "id": "af1b657a-0049-44fe-9f11-09f0a7230ceb",
   "metadata": {
    "editable": true,
    "slideshow": {
     "slide_type": ""
    },
    "tags": []
   },
   "source": [
    "<div class=\"alert alert-info\" role=\"alert\">\n",
    "See the inverse correlated pactches? This shows that as your avergage sale value rises, the number of products purchased falls. This means that our customers tend to follow a simple rule... the bigger the purchase (amount of money), the less quantity of product you purchase.\n",
    "</div>"
   ]
  },
  {
   "cell_type": "code",
   "execution_count": 70,
   "id": "3b41aded-9f92-46f0-a80f-b5b0c2998f33",
   "metadata": {},
   "outputs": [
    {
     "data": {
      "image/png": "[encoded data removed]",
      "text/plain": [
       "<Figure size 1200x600 with 2 Axes>"
      ]
     },
     "metadata": {},
     "output_type": "display_data"
    }
   ],
   "source": [
    "# Plotting 2 graphs to understand categorical variable connection with numerical variables\n",
    "\n",
    "# Calculate grouped counts\n",
    "grouped_counts = bank.groupby(['Customer_Value', 'Activity_Status']).size().unstack(fill_value=0)\n",
    "\n",
    "# Calculate average AvgSaleLife per customer for each Activity_Status\n",
    "avg_avg_sale_life = bank.groupby('Activity_Status')['AvgSaleLife'].mean().reset_index()\n",
    "\n",
    "# Calculate total number of customers for each Activity_Status\n",
    "customer_counts = bank['Activity_Status'].value_counts().reset_index()\n",
    "customer_counts.columns = ['Activity_Status', 'TotalCustomers']\n",
    "\n",
    "# Merge average AvgSaleLife per customer and customer counts\n",
    "result = pd.merge(avg_avg_sale_life, customer_counts, on='Activity_Status')\n",
    "\n",
    "# Calculate proportionate AvgSaleLife per customer\n",
    "result['AvgSaleLifePerCustomer'] = result['AvgSaleLife'] / result['TotalCustomers']\n",
    "\n",
    "# Plotting combined plots\n",
    "fig, (ax1, ax2) = plt.subplots(1, 2, figsize=(12, 6))\n",
    "\n",
    "# Width of each bar\n",
    "bar_width = 0.2\n",
    "\n",
    "# Positions of bars on X-axis for grouped_counts plot\n",
    "ind1 = range(len(grouped_counts))\n",
    "\n",
    "# Plotting bars for grouped_counts\n",
    "for i, status in enumerate(grouped_counts.columns):\n",
    "    ax1.bar([x + i * bar_width for x in ind1], grouped_counts[status], width=bar_width, label=status)\n",
    "\n",
    "ax1.set_xticks(ind1)\n",
    "ax1.set_xticklabels(grouped_counts.index)\n",
    "ax1.set_xlabel('Customer Value')\n",
    "ax1.set_ylabel('Count')\n",
    "ax1.set_title('Customer Value Groups by Activity Status')\n",
    "ax1.legend()\n",
    "\n",
    "# Positions of bars on X-axis for result plot\n",
    "ind2 = range(len(result))\n",
    "\n",
    "# Plotting bars for result (AvgSaleLifePerCustomer)\n",
    "ax2.bar(result['Activity_Status'], result['AvgSaleLifePerCustomer'], color='skyblue')\n",
    "\n",
    "# Adding labels and title for result plot\n",
    "ax2.set_xlabel('Activity Status')\n",
    "ax2.set_ylabel('AvgSaleLife per Customer')\n",
    "ax2.set_title('Proportionate AvgSaleLife per Customer by Activity Status')\n",
    "\n",
    "# Adjust layout to prevent overlap\n",
    "plt.tight_layout()\n",
    "\n",
    "# Display the combined plot\n",
    "plt.show()\n"
   ]
  },
  {
   "cell_type": "markdown",
   "id": "7b5aef7a-ebea-49b1-ba28-952f51058c20",
   "metadata": {},
   "source": [
    "<div class=\"alert alert-info\" role=\"alert\">\n",
    "Based off our last insight, we can look into the connection between customer value, activity status and the average lifetime sales to each group. We find that the cutsomer value groups help represent how these cutsomers contribute to the firm's sales. Those with high activity (buy more often), tend to spend less in their lifetime than those who have an average or low activity status. With this finding, we believe that we should include these variables in our models. This means we will use <b> machine learning </b> models. \n",
    "</div>"
   ]
  },
  {
   "cell_type": "markdown",
   "id": "da063a07-e1f2-4644-9d1f-96d5b4e80db1",
   "metadata": {
    "jp-MarkdownHeadingCollapsed": true
   },
   "source": [
    "# Step 4: Data Wrangling\n",
    "\n",
    "In this case, we will be imputing our missing variables, encoding our categorical variables, and splitting our dataset for testing and training."
   ]
  },
  {
   "cell_type": "markdown",
   "id": "9131fd54-d0f3-41e2-83bc-3bec75e32bf9",
   "metadata": {},
   "source": [
    "## Imputation\n",
    "\n",
    "<div class=\"alert alert-info\" role=\"alert\">\n",
    "Earlier in this project we saw that our data was missing about 25% of data of Age and AvgSale3Yr_DP. To best support our model creation, we will address this by replacing our missing data by the means of the corresponding variable.\n",
    "</div>"
   ]
  },
  {
   "cell_type": "code",
   "execution_count": 71,
   "id": "03a62a43-686b-4124-b561-9fb37c7ffb9c",
   "metadata": {},
   "outputs": [],
   "source": [
    "# Selecting only numeric columns\n",
    "numeric_cols = bank.select_dtypes(include=np.number).columns\n",
    "\n",
    "# Calculate mean of numeric columns\n",
    "mean_values = bank[numeric_cols].mean()\n",
    "\n",
    "# Fill missing values in numeric columns with their respective means\n",
    "bank[numeric_cols] = bank[numeric_cols].fillna(mean_values)"
   ]
  },
  {
   "cell_type": "markdown",
   "id": "6493c640-68eb-4a22-87d7-114a5fba00ce",
   "metadata": {},
   "source": [
    "## Label Encoding\n",
    "\n",
    "<div class=\"alert alert-info\" role=\"alert\">\n",
    "This step will makes our categorical variables be accurately represented as numbers. We identidied that our categorical variables hold valueable insight into the purchasing habits, which means we aim to keep them in our models for accurate results.\n",
    "</div>"
   ]
  },
  {
   "cell_type": "code",
   "execution_count": 72,
   "id": "3727a8d9-a546-4717-b629-1afbd2e1b3cc",
   "metadata": {},
   "outputs": [],
   "source": [
    "# Select categorical columns excluding 'Activity_Status' and 'Customer_Value'\n",
    "categorical_cols = [col for col in bank.select_dtypes(include=['category']).columns if col != 'Activity_Status' and col != 'Customer_Value']\n",
    "\n",
    "# Initialize LabelEncoder\n",
    "label_encoder = LabelEncoder()\n",
    "\n",
    "# Encode each categorical column using LabelEncoder\n",
    "for col in categorical_cols:\n",
    "    bank[col] = label_encoder.fit_transform(bank[col])\n",
    "\n",
    "# Mapping for 'Activity_Status' and 'Customer_Value'\n",
    "label_encoding = {\n",
    "    'Activity_Status': {'High': 0, 'Average': 1, 'Low': 2},\n",
    "    'Customer_Value': {'A': 0, 'B': 1, 'C': 2, 'D': 3, 'E': 4}\n",
    "}\n",
    "\n",
    "# Apply mapping\n",
    "for col, mapping in label_encoding.items():\n",
    "    bank[col] = bank[col].map(mapping).astype(\"int64\")"
   ]
  },
  {
   "cell_type": "code",
   "execution_count": 73,
   "id": "6c80ffe5-3cf4-443e-a920-cc24ee336ee1",
   "metadata": {},
   "outputs": [
    {
     "name": "stdout",
     "output_type": "stream",
     "text": [
      "<class 'pandas.core.frame.DataFrame'>\n",
      "RangeIndex: 108600 entries, 0 to 108599\n",
      "Data columns (total 21 columns):\n",
      " #   Column           Non-Null Count   Dtype  \n",
      "---  ------           --------------   -----  \n",
      " 0   AccountID        108600 non-null  int64  \n",
      " 1   Status           108600 non-null  int64  \n",
      " 2   Customer_Value   108600 non-null  int64  \n",
      " 3   Age              108600 non-null  float64\n",
      " 4   Home_Flag        108600 non-null  int64  \n",
      " 5   Homeval          108600 non-null  int64  \n",
      " 6   Inc              108600 non-null  int64  \n",
      " 7   Pr               108600 non-null  int64  \n",
      " 8   Activity_Status  108600 non-null  int64  \n",
      " 9   AvgSale3Yr       108600 non-null  float64\n",
      " 10  AvgSaleLife      108600 non-null  float64\n",
      " 11  AvgSale3Yr_DP    108600 non-null  float64\n",
      " 12  LastProdAmt      108600 non-null  float64\n",
      " 13  CntPur3Yr        108600 non-null  int64  \n",
      " 14  CntPurLife       108600 non-null  int64  \n",
      " 15  CntPur3Yr_DP     108600 non-null  int64  \n",
      " 16  CntPurLife_DP    108600 non-null  int64  \n",
      " 17  CntTotPromo      108600 non-null  int64  \n",
      " 18  MnthsLastPur     108600 non-null  int64  \n",
      " 19  Cnt1Yr_DP        108600 non-null  int64  \n",
      " 20  CustTenure       108600 non-null  int64  \n",
      "dtypes: float64(5), int64(16)\n",
      "memory usage: 17.4 MB\n"
     ]
    }
   ],
   "source": [
    "# Checking result of parsing and imputation - should all be integer or float (numerical)\n",
    "bank.info()"
   ]
  },
  {
   "cell_type": "markdown",
   "id": "dc354ce6-1112-492a-9548-af26bd2ba8c3",
   "metadata": {},
   "source": [
    "## Train/Test Split\n",
    "\n",
    "<div class=\"alert alert-info\" role=\"alert\">\n",
    "We split our dataset into training and testing splits in order to ensure our model is being trained without knowing our target variable and having all the information. This is done so th emodel can be more robust to unseen data, which would be new customer data in our case. The testing spilt will then determine our model's performance as the predicted values of Status are then compared to actual results of Status.\n",
    "</div>"
   ]
  },
  {
   "cell_type": "code",
   "execution_count": 74,
   "id": "7258844e-a2ac-4bfc-b7bd-e6103e66ed44",
   "metadata": {},
   "outputs": [],
   "source": [
    "x = bank.drop(['Status', 'AccountID'], axis=1)\n",
    "y = bank['Status']"
   ]
  },
  {
   "cell_type": "code",
   "execution_count": 75,
   "id": "03e4a3a5-1a1b-4df1-acdc-a82317cd7089",
   "metadata": {},
   "outputs": [],
   "source": [
    "X_train, X_valid, y_train, y_valid = train_test_split(x, y, test_size=0.2, random_state=42)"
   ]
  },
  {
   "cell_type": "code",
   "execution_count": 76,
   "id": "e2685cee-1458-4b3b-865a-a873f869c136",
   "metadata": {},
   "outputs": [
    {
     "name": "stdout",
     "output_type": "stream",
     "text": [
      "(86880, 19)\n",
      "(21720, 19)\n",
      "(86880,)\n",
      "(21720,)\n"
     ]
    }
   ],
   "source": [
    "# checking split results\n",
    "print(X_train.shape)\n",
    "print(X_valid.shape)\n",
    "print(y_train.shape)\n",
    "print(y_valid.shape)"
   ]
  },
  {
   "cell_type": "markdown",
   "id": "a8461157-339e-45d6-a3ae-c25fc4289122",
   "metadata": {
    "jp-MarkdownHeadingCollapsed": true
   },
   "source": [
    "# Step 5: Modelling"
   ]
  },
  {
   "cell_type": "markdown",
   "id": "e6ee557d-fc2e-4655-8291-df647fdcec46",
   "metadata": {},
   "source": [
    "## Python sklearn Models\n",
    "Python's scikit-learn (sklearn) library provides a wide range of machine learning models and is seen as a standard library for doing analytics and machine learning within Python."
   ]
  },
  {
   "cell_type": "markdown",
   "id": "67a7a30d-c541-4eba-820e-dc13512387b8",
   "metadata": {},
   "source": [
    "### Decision Tree\n",
    "A decision tree model is a predictive model that maps observations about an item to conclusions about its target value. It works by dividing the data into smaller and smaller subsets based on questions asked about features in the data. Each internal node represents a \"decision\" based on a feature, each branch represents the outcome of the decision, and each leaf node represents the outcome (or target value) of the decision. Decision trees are used for both classification and regression tasks and are easy to interpret and visualize."
   ]
  },
  {
   "cell_type": "code",
   "execution_count": 77,
   "id": "efb5a419-6e70-443b-aba6-f829cccc6d9f",
   "metadata": {},
   "outputs": [
    {
     "name": "stdout",
     "output_type": "stream",
     "text": [
      "Train Accuracy: 0.8302255985267035\n",
      "Test Accuracy: 0.8246777163904235\n",
      "\n",
      "Test Reporting:\n"
     ]
    },
    {
     "data": {
      "text/plain": [
       "0               0.941378\n",
       "1               0.381215\n",
       "accuracy        0.824678\n",
       "macro avg       0.661297\n",
       "weighted avg    0.824678\n",
       "Name: recall, dtype: float64"
      ]
     },
     "execution_count": 77,
     "metadata": {},
     "output_type": "execute_result"
    }
   ],
   "source": [
    "# Decision Tree\n",
    "\n",
    "# Call the classifier for 3 layers\n",
    "dt = DecisionTreeClassifier(max_depth=3)\n",
    "\n",
    "# Train our model using the training data and training \"Status\" results\n",
    "dt.fit(X_train, y_train)\n",
    "\n",
    "# Accuracy metrics comparing our training and testing data predictions to the actual results of Status\n",
    "# Data model was trained on\n",
    "train_accuracy = accuracy_score(y_train, dt.predict(X_train))\n",
    "# Unseen data to test model's fit\n",
    "test_accuracy = accuracy_score(y_valid, dt.predict(X_valid))\n",
    "\n",
    "\n",
    "# Model Evaluation Metrics\n",
    "print(\"Train Accuracy:\", train_accuracy)\n",
    "print(\"Test Accuracy:\", test_accuracy)\n",
    "\n",
    "print(\"\")\n",
    "print(\"Test Reporting:\")\n",
    "test_report1 = classification_report(y_valid, dt.predict(X_valid), output_dict=True)\n",
    "pd.DataFrame(test_report1).T[\"recall\"]\n"
   ]
  },
  {
   "cell_type": "markdown",
   "id": "00d336a1-0ca8-49f8-9e70-34c3cf25f02a",
   "metadata": {},
   "source": [
    "### Random Forest\n",
    "A Random Forest model is another ensemble learning method that constructs multiple decision trees during training and outputs the mode of the classes (classification) or the mean prediction (regression) of the individual trees. Random forests correct for decision trees' habit of overfitting to their training set. They are robust against overfitting and work well with default hyperparameters. Random forests are widely used in various fields, from banking to medicine, because of their performance and simplicity."
   ]
  },
  {
   "cell_type": "markdown",
   "id": "9ff1d9a2-8089-4c07-a47d-ba5510817635",
   "metadata": {},
   "source": [
    "<div class=\"alert alert-info\" role=\"alert\">\n",
    "Notice that we use SMOTE in our pipeline. SMOTE stands for Synthetic Minority Oversampling Technique, which is going to help us get a better training for our models since our dataset is unbalanced. We have more data showing customers who did not respond to the campaign [Stautus = 0] than we do to those who do respond [Status = 1]\n",
    "</div>"
   ]
  },
  {
   "cell_type": "code",
   "execution_count": 78,
   "id": "30a59e60-ec0d-4e8c-a2b8-2c7ce7852136",
   "metadata": {},
   "outputs": [
    {
     "name": "stdout",
     "output_type": "stream",
     "text": [
      "Train Accuracy: 0.9999884898710866\n",
      "Test Accuracy: 0.8483885819521179\n",
      "\n",
      "Test Reporting:\n",
      "0               0.890142\n",
      "1               0.689724\n",
      "accuracy        0.848389\n",
      "macro avg       0.789933\n",
      "weighted avg    0.848389\n",
      "Name: recall, dtype: float64\n"
     ]
    }
   ],
   "source": [
    "# Random Forest\n",
    "\n",
    "# Setting our weights and random state for consistent results\n",
    "model = RandomForestClassifier(\n",
    "    class_weight='balanced',\n",
    "    random_state=42\n",
    ")\n",
    "\n",
    "# Creating our model pipeline to introduce SMOTE - allows us to oversample the minority of customers with Status as \"1\"\n",
    "pipeline = Pipeline([\n",
    "    ('SMOTEENN', SMOTE(random_state=42)),\n",
    "    ('classifier', model)\n",
    "])\n",
    "\n",
    "#Train our model using the training data and training \"Status\" results\n",
    "pipeline.fit(X_train, y_train)\n",
    "\n",
    "# Accuracy metrics comparing our training and testing data predictions to the actual results of Status\n",
    "# Data model was trained on\n",
    "train_accuracy = accuracy_score(y_train, pipeline.predict(X_train))\n",
    "# Unseen data to test model's fit\n",
    "test_accuracy = accuracy_score(y_valid, pipeline.predict(X_valid))\n",
    "\n",
    "# Model Evaluation Metrics\n",
    "print(\"Train Accuracy:\", train_accuracy)\n",
    "print(\"Test Accuracy:\", test_accuracy)\n",
    "\n",
    "print(\"\")\n",
    "print(\"Test Reporting:\")\n",
    "\n",
    "test_report2 = classification_report(y_valid, pipeline.predict(X_valid), output_dict=True)\n",
    "print(pd.DataFrame(test_report2).T[\"recall\"])"
   ]
  },
  {
   "cell_type": "markdown",
   "id": "2a3968ca-3f64-4447-9b0f-44c3701c3197",
   "metadata": {},
   "source": [
    "### Gradient Boosting\n",
    "Gradient Boosting is an ensemble learning technique that combines the predictions of several base estimators in order to improve robustness and accuracy. In this model, trees are built sequentially, where each tree tries to correct the errors of the previous one. It fits new models to provide a more accurate estimate of the target variable. Gradient boosting is particularly powerful and often outperforms other ensemble methods due to its ability to optimize for a wide range of objective functions and its flexibility in handling different types of data."
   ]
  },
  {
   "cell_type": "code",
   "execution_count": 79,
   "id": "e2419b87-a477-41e6-bcbb-8b2d95e2936d",
   "metadata": {},
   "outputs": [
    {
     "name": "stdout",
     "output_type": "stream",
     "text": [
      "Train Accuracy: 0.8218116942909761\n",
      "Test Accuracy: 0.8160220994475138\n",
      "\n",
      "Test Reporting:\n",
      "0               0.847863\n",
      "1               0.695028\n",
      "accuracy        0.816022\n",
      "macro avg       0.771445\n",
      "weighted avg    0.816022\n",
      "Name: recall, dtype: float64\n"
     ]
    }
   ],
   "source": [
    "# Gradient Boosting\n",
    "\n",
    "# Set the parameters needed for our gradient boosting model\n",
    "model = GradientBoostingClassifier(\n",
    "    n_estimators=100,\n",
    "    max_depth=4,\n",
    "    learning_rate=0.1,\n",
    "    subsample=0.7,\n",
    "    min_samples_leaf=1,\n",
    "    random_state=42\n",
    ")\n",
    "\n",
    "# Creating our model pipeline to introduce SMOTE - allows us to oversample the minority of customers with Status as \"1\"\n",
    "gb_pipeline = Pipeline([\n",
    "    ('SMOTEENN', SMOTE(random_state=42)),\n",
    "    ('classifier', model)\n",
    "])\n",
    "\n",
    "#Train our model using the training data and training \"Status\" results\n",
    "gb_pipeline.fit(X_train, y_train)\n",
    "\n",
    "# Accuracy metrics comparing our training and testing data predictions to the actual results of Status\n",
    "# Data model was trained on\n",
    "train_accuracy = accuracy_score(y_train, gb_pipeline.predict(X_train))\n",
    "# Unseen data to test model's fit\n",
    "test_accuracy = accuracy_score(y_valid, gb_pipeline.predict(X_valid))\n",
    "\n",
    "# Model Evaluation Metrics\n",
    "print(\"Train Accuracy:\", train_accuracy)\n",
    "print(\"Test Accuracy:\", test_accuracy)\n",
    "\n",
    "print(\"\")\n",
    "print(\"Test Reporting:\")\n",
    "\n",
    "test_report3 = classification_report(y_valid, gb_pipeline.predict(X_valid), output_dict=True)\n",
    "print(pd.DataFrame(test_report3).T[\"recall\"])"
   ]
  },
  {
   "cell_type": "markdown",
   "id": "fdad4b7b-5e58-4dbd-9da0-5d65f8eca04e",
   "metadata": {},
   "source": [
    "## SAS Models\n",
    "SAS offers a comprehensive suite of modeling tools designed for advanced analytics and predictive modeling in various industries - now these capabilities are able to be called directly from a Pythonic, scikit-learn API!\n",
    "\n",
    "These SAS capabilities have been specifically engineered to be high performance, and make use of the SAS compute engine underneath Workbench. If you're familiar with packages like H2O, this is very similar. However, when using the SAS Viya API you don't need to transform your data into a different type, or even learn new syntax - it's compatible with existing code.\n",
    "\n",
    "Try them yourself by using Python to call these SAS models!"
   ]
  },
  {
   "cell_type": "markdown",
   "id": "388745e8-75b1-4f3a-aa6c-db159b290aa3",
   "metadata": {},
   "source": [
    "### Random Forest"
   ]
  },
  {
   "cell_type": "markdown",
   "id": "39474571",
   "metadata": {},
   "source": [
    "In the below example of using the SAS Random Forest model, you can see how you can replace a scikit-learn model inside the scikit-learn pipeline with the SAS Viya ML model, with minimal code changes to the pipeline."
   ]
  },
  {
   "cell_type": "code",
   "execution_count": 80,
   "id": "66f87249",
   "metadata": {},
   "outputs": [],
   "source": [
    "from sasviya.ml.tree import ForestClassifier"
   ]
  },
  {
   "cell_type": "code",
   "execution_count": 81,
   "id": "f460db5e-f32a-4168-99dc-1a8a852c49f5",
   "metadata": {},
   "outputs": [
    {
     "name": "stdout",
     "output_type": "stream",
     "text": [
      "Train Accuracy: 0.801427255985267\n",
      "Test Accuracy: 0.783609576427256\n",
      "\n",
      "Test Reporting:\n"
     ]
    },
    {
     "data": {
      "text/plain": [
       "0               0.788601\n",
       "1               0.764641\n",
       "accuracy        0.783610\n",
       "macro avg       0.776621\n",
       "weighted avg    0.783610\n",
       "Name: recall, dtype: float64"
      ]
     },
     "execution_count": 81,
     "metadata": {},
     "output_type": "execute_result"
    }
   ],
   "source": [
    "# Random Forest\n",
    "\n",
    "# Set a random state for consistent results\n",
    "model = ForestClassifier(\n",
    "    random_state=70\n",
    ")\n",
    "\n",
    "# Creating our model pipeline to introduce SMOTE - allows us to oversample the minority of customers with Status as \"1\"\n",
    "pipeline2 = Pipeline([\n",
    "    ('SMOTEENN', SMOTE(random_state=42)),\n",
    "    ('classifier', model)\n",
    "])\n",
    "\n",
    "#Train our model using the training data and training \"Status\" results\n",
    "pipeline2.fit(X_train, y_train)\n",
    "\n",
    "# Accuracy metrics comparing our training and testing data predictions to the actual results of Status\n",
    "# Data model was trained on\n",
    "train_accuracy = accuracy_score(y_train, pipeline2.predict(X_train))\n",
    "# Unseen data to test model's fit\n",
    "test_accuracy = accuracy_score(y_valid, pipeline2.predict(X_valid))\n",
    "\n",
    "# Model Evaluation Metrics\n",
    "print(\"Train Accuracy:\", train_accuracy)\n",
    "print(\"Test Accuracy:\", test_accuracy)\n",
    "\n",
    "print(\"\")\n",
    "print(\"Test Reporting:\")\n",
    "\n",
    "test_report4 = classification_report(y_valid, pipeline2.predict(X_valid), output_dict=True)\n",
    "pd.DataFrame(test_report4).T[\"recall\"]"
   ]
  },
  {
   "cell_type": "markdown",
   "id": "fa6b299a-bf79-45b4-a0fd-b075b6150101",
   "metadata": {},
   "source": [
    "### Gradient Boosting"
   ]
  },
  {
   "cell_type": "code",
   "execution_count": 82,
   "id": "2ec49745",
   "metadata": {},
   "outputs": [],
   "source": [
    "from sasviya.ml.tree import GradientBoostingClassifier as sas_GradientBoostingClassifier"
   ]
  },
  {
   "cell_type": "code",
   "execution_count": 83,
   "id": "0aa0297c-d969-40d9-ac35-1d9dcfd1d74a",
   "metadata": {},
   "outputs": [
    {
     "name": "stdout",
     "output_type": "stream",
     "text": [
      "Train Accuracy: 0.8127762430939226\n",
      "Test Accuracy: 0.8055709023941068\n",
      "\n",
      "Test Reporting:\n"
     ]
    },
    {
     "data": {
      "text/plain": [
       "0               0.830765\n",
       "1               0.709834\n",
       "accuracy        0.805571\n",
       "macro avg       0.770300\n",
       "weighted avg    0.805571\n",
       "Name: recall, dtype: float64"
      ]
     },
     "execution_count": 83,
     "metadata": {},
     "output_type": "execute_result"
    }
   ],
   "source": [
    "# Gradient Boosting\n",
    "\n",
    "# Set the parameters needed for our gradient boosting model\n",
    "model = sas_GradientBoostingClassifier( # not to be confused with sklearn GB\n",
    "    n_estimators=100,\n",
    "    max_depth=4,\n",
    "    learning_rate=0.1,\n",
    "    subsample=0.7,\n",
    "    min_samples_leaf=1,\n",
    "    random_state=42\n",
    ")\n",
    "\n",
    "# Creating our model pipeline to introduce SMOTE - allows us to oversample the minority of customers with Status as \"1\"\n",
    "pipeline2 = Pipeline([\n",
    "    ('SMOTEENN', SMOTE(random_state=42)),\n",
    "    ('classifier', model)\n",
    "])\n",
    "\n",
    "#Train our model using the training data and training \"Status\" results\n",
    "pipeline2.fit(X_train, y_train)\n",
    "\n",
    "# Accuracy metrics comparing our training and testing data predictions to the actual results of Status\n",
    "# Data model was trained on\n",
    "train_accuracy = accuracy_score(y_train, pipeline2.predict(X_train))\n",
    "# Unseen data to test model's fit\n",
    "test_accuracy = accuracy_score(y_valid, pipeline2.predict(X_valid))\n",
    "\n",
    "# Model Evaluation Metrics\n",
    "print(\"Train Accuracy:\", train_accuracy)\n",
    "print(\"Test Accuracy:\", test_accuracy)\n",
    "\n",
    "\n",
    "print(\"\")\n",
    "print(\"Test Reporting:\")\n",
    "\n",
    "test_report5 = classification_report(y_valid, pipeline2.predict(X_valid), output_dict=True)\n",
    "pd.DataFrame(test_report5).T[\"recall\"]"
   ]
  },
  {
   "cell_type": "markdown",
   "id": "0c080d17-beda-42b9-a7a6-cb8da04b3206",
   "metadata": {
    "jp-MarkdownHeadingCollapsed": true
   },
   "source": [
    "# Step 6: Model Evaluation\n"
   ]
  },
  {
   "cell_type": "markdown",
   "id": "986c0477-5a8c-49f3-8c48-b12f1841af01",
   "metadata": {},
   "source": [
    "<div class=\"alert alert-info\" role=\"alert\">\n",
    "In this project, it is essential we compare our models not only on accuracy but other evaluation metrics too. In this case we will be using  <b> recall </b> on Status = 1 [the customer has responded oto the campaign] to show how well the model predicts correctly if someone will respond (true positives).\n",
    "</div>"
   ]
  },
  {
   "cell_type": "code",
   "execution_count": 84,
   "id": "03b1182e-5938-48b2-8de5-9a133504bd37",
   "metadata": {},
   "outputs": [
    {
     "name": "stdout",
     "output_type": "stream",
     "text": [
      "Model Evaluation:\n",
      "\n",
      "Python Models\n",
      "\n",
      "Decision Tree\n",
      "0               0.941378\n",
      "1               0.381215\n",
      "accuracy        0.824678\n",
      "macro avg       0.661297\n",
      "weighted avg    0.824678\n",
      "Name: recall, dtype: float64\n",
      "\n",
      "Random Forest\n",
      "0               0.890142\n",
      "1               0.689724\n",
      "accuracy        0.848389\n",
      "macro avg       0.789933\n",
      "weighted avg    0.848389\n",
      "Name: recall, dtype: float64\n",
      "\n",
      "Gradient Boosting\n",
      "0               0.941378\n",
      "1               0.381215\n",
      "accuracy        0.824678\n",
      "macro avg       0.661297\n",
      "weighted avg    0.824678\n",
      "Name: recall, dtype: float64\n",
      "\n",
      "\n",
      "SAS Models\n",
      "\n",
      "Random Forest\n",
      "0               0.788601\n",
      "1               0.764641\n",
      "accuracy        0.783610\n",
      "macro avg       0.776621\n",
      "weighted avg    0.783610\n",
      "Name: recall, dtype: float64\n",
      "\n",
      "Gradient Boosting\n",
      "0               0.830765\n",
      "1               0.709834\n",
      "accuracy        0.805571\n",
      "macro avg       0.770300\n",
      "weighted avg    0.805571\n",
      "Name: recall, dtype: float64\n"
     ]
    }
   ],
   "source": [
    "print(\"Model Evaluation:\")\n",
    "print(\"\")\n",
    "print(\"Python Models\")\n",
    "print(\"\")\n",
    "print(\"Decision Tree\")\n",
    "print(pd.DataFrame(test_report1).T[\"recall\"])\n",
    "print(\"\")\n",
    "print(\"Random Forest\")\n",
    "print(pd.DataFrame(test_report2).T[\"recall\"])\n",
    "print(\"\")\n",
    "print(\"Gradient Boosting\")\n",
    "print(pd.DataFrame(test_report1).T[\"recall\"])\n",
    "print(\"\")\n",
    "print(\"\")\n",
    "print(\"SAS Models\")\n",
    "print(\"\")\n",
    "print(\"Random Forest\")\n",
    "print(pd.DataFrame(test_report4).T[\"recall\"])\n",
    "print(\"\")\n",
    "print(\"Gradient Boosting\")\n",
    "print(pd.DataFrame(test_report5).T[\"recall\"])\n"
   ]
  },
  {
   "cell_type": "markdown",
   "id": "c1fe802c-5256-479f-9f00-b8be08ca64e8",
   "metadata": {},
   "source": [
    "# Step 7: Results & Model Registration"
   ]
  },
  {
   "cell_type": "markdown",
   "id": "0cdb874c-4ac9-4fef-9940-0c1ebd0e78e0",
   "metadata": {},
   "source": [
    "## Comparing Recall"
   ]
  },
  {
   "cell_type": "markdown",
   "id": "35f446f7-b329-45cc-86b5-ecff602b5643",
   "metadata": {},
   "source": [
    "\n",
    "<div class=\"alert alert-info\" role=\"alert\">\n",
    "Based on our models, we should use the <b>SAS Random Forest model</b>. This is because the recall score on Status = 1 is 0.777680. This really means that the model was able to accurately predict 77.8% of customers who did repond to our campaign. This is our best performing model.\n",
    "</div>"
   ]
  },
  {
   "cell_type": "markdown",
   "id": "3aa605e6",
   "metadata": {},
   "source": [
    "## Model Registration\n",
    "Models built on Workbench, whether they are scikit-learn models or SAS Viya ML models can be registered into the model repository on Viya (SAS Model Manager). This is a crucial step in ensuring that models can be goverened properly as corporate assets before being pushed into production.\n",
    "\n",
    "Let's look at examples of how to register both scikit-learn and SAS Viya ML models."
   ]
  },
  {
   "cell_type": "code",
   "execution_count": 85,
   "id": "c423db3c",
   "metadata": {},
   "outputs": [],
   "source": [
    "from sasctl import pzmm\n",
    "from sasctl import Session\n",
    "from sasctl.services import model_repository as mr, model_management as mm\n",
    "from pathlib import Path\n",
    "import requests\n",
    "import os"
   ]
  },
  {
   "cell_type": "code",
   "execution_count": 86,
   "id": "825bfcdb",
   "metadata": {},
   "outputs": [],
   "source": [
    "path = f'/workspaces/{os.environ[\"DEFAULT_MOUNTNAME\"]}/ViyaWBWorkshopHandsOn/artefacts/ScikitLearnGB'"
   ]
  },
  {
   "cell_type": "code",
   "execution_count": 87,
   "id": "080c0411",
   "metadata": {},
   "outputs": [],
   "source": [
    "target_df = pd.DataFrame(data=[[0.5,0.5]],columns=['P_Status0','P_Status1'])"
   ]
  },
  {
   "cell_type": "code",
   "execution_count": 88,
   "id": "aab80324",
   "metadata": {},
   "outputs": [
    {
     "name": "stdout",
     "output_type": "stream",
     "text": [
      "inputVar.json was successfully written and saved to /workspaces/myfolder/ViyaWBWorkshopHandsOn/artefacts/ScikitLearnGB/inputVar.json\n"
     ]
    }
   ],
   "source": [
    "# Create input variable metadata\n",
    "pzmm.JSONFiles.write_var_json(X_train, is_input=True, json_path=path)"
   ]
  },
  {
   "cell_type": "code",
   "execution_count": 89,
   "id": "a2187e9c",
   "metadata": {},
   "outputs": [
    {
     "name": "stdout",
     "output_type": "stream",
     "text": [
      "outputVar.json was successfully written and saved to /workspaces/myfolder/ViyaWBWorkshopHandsOn/artefacts/ScikitLearnGB/outputVar.json\n"
     ]
    }
   ],
   "source": [
    "# Create output variable metadata\n",
    "pzmm.JSONFiles.write_var_json(target_df, is_input=False, json_path=path)"
   ]
  },
  {
   "cell_type": "code",
   "execution_count": 92,
   "id": "a50f6262",
   "metadata": {},
   "outputs": [
    {
     "name": "stdout",
     "output_type": "stream",
     "text": [
      "ModelProperties.json was successfully written and saved to /workspaces/myfolder/ViyaWBWorkshopHandsOn/artefacts/ScikitLearnGB/ModelProperties.json\n"
     ]
    }
   ],
   "source": [
    "pzmm.JSONFiles.write_model_properties_json(model_name=model_name,\n",
    "    model_desc='Scikit-learn GradientBoostingClassifier for Bank Campaign',\n",
    "    target_variable='Status',\n",
    "    model_algorithm='scikit-learn.GradientBoostingClassifier',\n",
    "    target_values=[\"1\",\"0\"],\n",
    "    json_path=path,\n",
    "    modeler=modeller\n",
    ")"
   ]
  },
  {
   "cell_type": "code",
   "execution_count": 93,
   "id": "063bbc10",
   "metadata": {},
   "outputs": [
    {
     "name": "stderr",
     "output_type": "stream",
     "text": [
      "/usr/local/lib/python3.11/site-packages/urllib3/connectionpool.py:1103: InsecureRequestWarning: Unverified HTTPS request is being made to host 'apgtps2demo.gtp.unx.sas.com'. Adding certificate verification is strongly advised. See: https://urllib3.readthedocs.io/en/latest/advanced-usage.html#tls-warnings\n",
      "  warnings.warn(\n"
     ]
    }
   ],
   "source": [
    "## get access token for viya env \n",
    "url = \"https://apgtps2demo.gtp.unx.sas.com\"\n",
    "auth_url = f\"{url}/SASLogon/oauth/token\"\n",
    "## reading long-lived refresh token from txt file\n",
    "refresh_token = Path(f'/workspaces/{os.environ[\"DEFAULT_MOUNTNAME\"]}/apgtps2demo_refresh_token.txt').read_text().replace('\\n', '')\n",
    "\n",
    "payload=f'grant_type=refresh_token&refresh_token={refresh_token}'\n",
    "headers = {\n",
    "  'Accept': 'application/json',\n",
    "  'Content-Type': 'application/x-www-form-urlencoded',\n",
    "  'Authorization': 'Basic c2FzLmNsaTo=',\n",
    "}\n",
    "\n",
    "response = requests.request(\"POST\", auth_url, headers=headers, data=payload, verify=False)\n",
    "access_token = response.json()['access_token']"
   ]
  },
  {
   "cell_type": "code",
   "execution_count": 94,
   "id": "89ecfcc8",
   "metadata": {},
   "outputs": [
    {
     "data": {
      "text/plain": [
       "<sasctl.core.Session at 0x7f279fb12cd0>"
      ]
     },
     "execution_count": 94,
     "metadata": {},
     "output_type": "execute_result"
    }
   ],
   "source": [
    "# Create a Session, this is the connection to SAS Viya\n",
    "st = Session(url, token=access_token, verify_ssl=False)\n",
    "st"
   ]
  },
  {
   "cell_type": "code",
   "execution_count": 95,
   "id": "4818fd9a",
   "metadata": {},
   "outputs": [
    {
     "name": "stderr",
     "output_type": "stream",
     "text": [
      "/usr/local/lib/python3.11/site-packages/urllib3/connectionpool.py:1103: InsecureRequestWarning: Unverified HTTPS request is being made to host 'apgtps2demo.gtp.unx.sas.com'. Adding certificate verification is strongly advised. See: https://urllib3.readthedocs.io/en/latest/advanced-usage.html#tls-warnings\n",
      "  warnings.warn(\n"
     ]
    }
   ],
   "source": [
    "# Get the model project to register into\n",
    "project_name = \"SASANZ_Workbench_HandsOn\" \n",
    "project = mr.get_project(project_name)"
   ]
  },
  {
   "cell_type": "code",
   "execution_count": 96,
   "id": "1ca0ca6b",
   "metadata": {},
   "outputs": [],
   "source": [
    "model_name = f'Scikit-LearnGradientBoost_{modeller}'"
   ]
  },
  {
   "cell_type": "code",
   "execution_count": 97,
   "id": "09a9edda",
   "metadata": {},
   "outputs": [
    {
     "name": "stderr",
     "output_type": "stream",
     "text": [
      "/workspaces/myfolder/.user-python-packages/lib/python3.11/site-packages/sasctl/pzmm/import_model.py:315: UserWarning: The following arguments are required for the automatic generation of score code: input_data, predict_method, score_metrics.\n",
      "  warn(\n"
     ]
    },
    {
     "name": "stdout",
     "output_type": "stream",
     "text": [
      "All model files were zipped to /workspaces/myfolder/ViyaWBWorkshopHandsOn/artefacts/ScikitLearnGB.\n"
     ]
    },
    {
     "name": "stderr",
     "output_type": "stream",
     "text": [
      "/workspaces/myfolder/.user-python-packages/lib/python3.11/site-packages/sasctl/tasks.py:238: UserWarning: This model's properties are different from the project's. If you want to run a performance definition with this model, the project's properties may need to be updated.\n",
      "  warn(\n"
     ]
    }
   ],
   "source": [
    "import_model = pzmm.ImportModel.import_model(\n",
    "    model_files=path,\n",
    "    model_prefix=model_name,\n",
    "    project=project_name, \n",
    "    input_data=X_train,\n",
    "    predict_method='{}.predict_proba({})',\n",
    "    target_values=[\"1\",\"0\"]\n",
    ")"
   ]
  },
  {
   "cell_type": "code",
   "execution_count": 98,
   "id": "c465f2e1",
   "metadata": {},
   "outputs": [],
   "source": [
    "model = mr.get_model(model_name)"
   ]
  },
  {
   "cell_type": "markdown",
   "id": "76e76cd8",
   "metadata": {},
   "source": [
    "#### Scikit-Learn Model"
   ]
  },
  {
   "cell_type": "markdown",
   "id": "c82826b6",
   "metadata": {},
   "source": [
    "Save score code to file"
   ]
  },
  {
   "cell_type": "code",
   "execution_count": 99,
   "id": "6a9678ed",
   "metadata": {},
   "outputs": [
    {
     "name": "stdout",
     "output_type": "stream",
     "text": [
      "Overwriting /workspaces/myfolder/ViyaWBWorkshopHandsOn/artefacts/score_gboost.py\n"
     ]
    }
   ],
   "source": [
    "%%writefile /workspaces/myfolder/ViyaWBWorkshopHandsOn/artefacts/score_gboost.py\n",
    "import joblib\n",
    "import numpy as np\n",
    "import pandas as pd\n",
    "import settings\n",
    "\n",
    "pkl_file_name = \"scikit_pipeline_gb.pkl\"\n",
    "\n",
    "def score_method(Customer_Value, Age, Home_Flag, Homeval,\n",
    "       Inc, Pr, Activity_Status, AvgSale3Yr, AvgSaleLife,\n",
    "       AvgSale3Yr_DP, LastProdAmt, CntPur3Yr, CntPurLife,\n",
    "       CntPur3Yr_DP, CntPurLife_DP, CntTotPromo, MnthsLastPur,\n",
    "       Cnt1Yr_DP, CustTenure):\n",
    "    \"Output: P_Status0, P_Status1\"\n",
    "\n",
    "    ## Load pickled pipeline\n",
    "    try:\n",
    "        dm_model\n",
    "    except NameError:\n",
    "        dm_model = joblib.load(settings.pickle_path+'/'+pkl_file_name)\n",
    "\n",
    "    # Create single row dataframe\n",
    "    bank = pd.DataFrame([[Customer_Value, Age, Home_Flag, Homeval,\n",
    "       Inc, Pr, Activity_Status, AvgSale3Yr, AvgSaleLife,\n",
    "       AvgSale3Yr_DP, LastProdAmt, CntPur3Yr, CntPurLife,\n",
    "       CntPur3Yr_DP, CntPurLife_DP, CntTotPromo, MnthsLastPur,\n",
    "       Cnt1Yr_DP, CustTenure]],\n",
    "             columns=['Customer_Value', 'Age', 'Home_Flag', 'Homeval',\n",
    "       'Inc', 'Pr', 'Activity_Status', 'AvgSale3Yr', 'AvgSaleLife',\n",
    "       'AvgSale3Yr_DP', 'LastProdAmt', 'CntPur3Yr', 'CntPurLife',\n",
    "       'CntPur3Yr_DP', 'CntPurLife_DP', 'CntTotPromo', 'MnthsLastPur',\n",
    "       'Cnt1Yr_DP', 'CustTenure'])\n",
    "    \n",
    "    # Selecting only numeric columns\n",
    "    numeric_cols = ['Age', 'Home_Flag', 'Homeval',\n",
    "       'Inc', 'Pr', 'AvgSale3Yr', 'AvgSaleLife',\n",
    "       'AvgSale3Yr_DP', 'LastProdAmt', 'CntPur3Yr', 'CntPurLife',\n",
    "       'CntPur3Yr_DP', 'CntPurLife_DP', 'CntTotPromo', 'MnthsLastPur',\n",
    "       'Cnt1Yr_DP', 'CustTenure']\n",
    "    # Select categorical columns excluding 'Customer_Value' and 'Activity_Status'\n",
    "    categorical_cols = ['Customer_Value','Activity_Status']\n",
    "\n",
    "    # Calculate mean of numeric columns\n",
    "    mean_values = bank[numeric_cols].mean()\n",
    "\n",
    "    # Fill missing values in numeric columns with their respective means\n",
    "    bank[numeric_cols] = bank[numeric_cols].fillna(mean_values)\n",
    "\n",
    "    # Mapping for 'Activity_Status' and 'Customer_Value'\n",
    "    label_encoding = {\n",
    "        'Activity_Status': {'High': 0, 'Average': 1, 'Low': 2},\n",
    "        'Customer_Value': {'A': 0, 'B': 1, 'C': 2, 'D': 3, 'E': 4}\n",
    "    }\n",
    "\n",
    "    # Apply mapping\n",
    "    for col, mapping in label_encoding.items():\n",
    "        bank[col] = bank[col].map(mapping).astype(\"int64\")\n",
    "\n",
    "    ## Generate predictions\n",
    "    rec_pred_prob = dm_model.predict_proba(bank)\n",
    "\n",
    "    return float(rec_pred_prob[0][0]), float(rec_pred_prob[0][1])\n"
   ]
  },
  {
   "cell_type": "code",
   "execution_count": 100,
   "id": "237158e5",
   "metadata": {},
   "outputs": [
    {
     "data": {
      "text/plain": [
       "['/workspaces/myfolder/ViyaWBWorkshopHandsOn/artefacts/ScikitLearnGB/scikit_pipeline_gb.pkl']"
      ]
     },
     "execution_count": 100,
     "metadata": {},
     "output_type": "execute_result"
    }
   ],
   "source": [
    "## Save GB pipeline as pkl\n",
    "pkl_file_name = 'scikit_pipeline_gb.pkl'\n",
    "joblib.dump(gb_pipeline, f'{path}/{pkl_file_name}')"
   ]
  },
  {
   "cell_type": "code",
   "execution_count": 101,
   "id": "d70634ec",
   "metadata": {},
   "outputs": [],
   "source": [
    "## On-demand Score code\n",
    "scorefile = mr.add_model_content(\n",
    "    model,\n",
    "    open(path+'/score_gboost.py', 'rb'),\n",
    "    name='score_gboost.py',\n",
    "    role='score'\n",
    ")"
   ]
  },
  {
   "cell_type": "code",
   "execution_count": 102,
   "id": "2b0d2997",
   "metadata": {},
   "outputs": [],
   "source": [
    "## Python Pickle file\n",
    "python_pickle = mr.add_model_content(\n",
    "    model,\n",
    "    open(path+'/'+pkl_file_name, 'rb'),\n",
    "    name=pkl_file_name,\n",
    "    role='python pickle'\n",
    ")"
   ]
  },
  {
   "cell_type": "markdown",
   "id": "e39e7ec2",
   "metadata": {},
   "source": [
    "#### SAS Viya ML Model"
   ]
  },
  {
   "cell_type": "code",
   "execution_count": 103,
   "id": "c0d34cb0",
   "metadata": {},
   "outputs": [],
   "source": [
    "def register_model(model_name, model, project):\n",
    "    model_params = {\n",
    "        \"name\": model_name,\n",
    "        \"projectId\": project.id,\n",
    "        \"type\": \"ASTORE\",\n",
    "    }\n",
    "    astore = mr.post(\n",
    "        \"/models\",\n",
    "        files={\"files\": (f\"{model_name}.astore\", model.export())},\n",
    "        data=model_params,\n",
    "    )"
   ]
  },
  {
   "cell_type": "code",
   "execution_count": 104,
   "id": "5b54e267",
   "metadata": {},
   "outputs": [
    {
     "data": {
      "text/plain": [
       "GradientBoostingClassifier(min_samples_leaf=1, subsample=0.7, random_state=42)"
      ]
     },
     "execution_count": 104,
     "metadata": {},
     "output_type": "execute_result"
    }
   ],
   "source": [
    "params = dict(n_estimators=100,\n",
    "    max_depth=4,\n",
    "    learning_rate=0.1,\n",
    "    subsample=0.7,\n",
    "    min_samples_leaf=1,\n",
    "    random_state=42)\n",
    "sas_gb = sas_GradientBoostingClassifier(**params)\n",
    "sas_gb.fit(X_train, y_train)"
   ]
  },
  {
   "cell_type": "code",
   "execution_count": 105,
   "id": "7d85c202",
   "metadata": {},
   "outputs": [
    {
     "name": "stderr",
     "output_type": "stream",
     "text": [
      "/usr/local/lib/python3.11/site-packages/urllib3/connectionpool.py:1103: InsecureRequestWarning: Unverified HTTPS request is being made to host 'apgtps2demo.gtp.unx.sas.com'. Adding certificate verification is strongly advised. See: https://urllib3.readthedocs.io/en/latest/advanced-usage.html#tls-warnings\n",
      "  warnings.warn(\n"
     ]
    }
   ],
   "source": [
    "register_model(f\"SASViyaML_GradientBoosting_{modeller}\", sas_gb, project)"
   ]
  },
  {
   "cell_type": "markdown",
   "id": "e923d6be-215f-4192-809b-a56f7c1b1864",
   "metadata": {},
   "source": [
    "# Future Work"
   ]
  },
  {
   "cell_type": "markdown",
   "id": "6afec4ee-25a9-4d3b-bc3e-1cb912ba51b0",
   "metadata": {},
   "source": [
    "The modelling journey does NOT end here! If you have some time and know a bit of python - feel free to go back into \"Step 5: Modelling\" and see if changing any of our model parameters help our model!"
   ]
  }
 ],
 "metadata": {
  "kernelspec": {
   "display_name": "Python 3",
   "language": "python",
   "name": "python3"
  },
  "language_info": {
   "codemirror_mode": {
    "name": "ipython",
    "version": 3
   },
   "file_extension": ".py",
   "mimetype": "text/x-python",
   "name": "python",
   "nbconvert_exporter": "python",
   "pygments_lexer": "ipython3",
   "version": "3.11.9"
  }
 },
 "nbformat": 4,
 "nbformat_minor": 5
}
